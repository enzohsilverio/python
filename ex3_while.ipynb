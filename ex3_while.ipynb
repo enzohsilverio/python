{
 "cells": [
  {
   "cell_type": "markdown",
   "id": "711f2023-c722-4969-be4b-285b0acfa6b8",
   "metadata": {},
   "source": [
    "1) Faça um programa que peça ao usuário um número e imprima todos os números de um até o número dado.\n",
    "\n",
    "Exemplo:\n",
    "\n",
    "digite: 5\n",
    "\n",
    "imprime: 1 2 3 4 5"
   ]
  },
  {
   "cell_type": "code",
   "execution_count": 18,
   "id": "33e4f810-4dd4-422d-aa1a-cc02a8bd6a3a",
   "metadata": {},
   "outputs": [
    {
     "name": "stdin",
     "output_type": "stream",
     "text": [
      "Digite um número maior que um: 5\n"
     ]
    },
    {
     "name": "stdout",
     "output_type": "stream",
     "text": [
      "1\n",
      "2\n",
      "3\n",
      "4\n",
      "5\n"
     ]
    }
   ],
   "source": [
    "n = int(input('Digite um número maior que um:'))\n",
    "\n",
    "cont = 1\n",
    "\n",
    "while n >= cont :\n",
    "    \n",
    "    print(cont)\n",
    "    \n",
    "    # cont += ...\n",
    "    cont = cont + 1"
   ]
  },
  {
   "cell_type": "code",
   "execution_count": null,
   "id": "51445913-3308-4c97-b359-bb4554c2de45",
   "metadata": {},
   "outputs": [],
   "source": [
    "## Resposta Sugerida\n",
    "\"\"\"Aqui a ideia é construir um algoritmo que realize uma tarefa simples de contagem. \n",
    "Isso significa que precisaremos de um laço de repetição controlado por uma variável incremental. \n",
    "Ou seja, a cada iteração (repetição), uma variável de contagem deve sofrer um incremento (adição) de 1 e ser exibida na tela. \n",
    "O limite é o número que o usuário colocará no início da execução. Veja:\"\"\"\n",
    "\n",
    "numero = int(input('Digite um número: ')) # entrada do usuário e limite da contagem\n",
    "contador = 1   # variável de contagem\n",
    "\n",
    "while contador <= numero: # laço de repetição\n",
    "\n",
    "    print(contador) # exibição da variável na tela\n",
    "\n",
    "    contador = contador + 1 # incremento\n",
    "Dessa forma, temos uma contagem que inicia em 1 e vai até N, sendo N a entrada escolhida pelo usuário. Como comentário final, lembre-se que o incremento do contador pode ser feito também dessa forma:\n",
    "\n",
    "contador += 1 # mesmo efeito da última linha do código"
   ]
  },
  {
   "cell_type": "markdown",
   "id": "a1e9b308-bba5-4e96-9fa6-3bf13a180f9d",
   "metadata": {},
   "source": [
    "2) Peça ao usuário para digitar um número e imprima o fatorial de n."
   ]
  },
  {
   "cell_type": "code",
   "execution_count": 35,
   "id": "f27cc6e9-c26c-4d6c-bfbe-b8ab8ae670e0",
   "metadata": {},
   "outputs": [
    {
     "name": "stdout",
     "output_type": "stream",
     "text": [
      "Cálculo do fatorial de um número\n",
      "\n"
     ]
    },
    {
     "name": "stdin",
     "output_type": "stream",
     "text": [
      "Digite um número inteiro não-negativo:  10\n"
     ]
    },
    {
     "name": "stdout",
     "output_type": "stream",
     "text": [
      "10! = 3628800\n"
     ]
    }
   ],
   "source": [
    "#-----------------------------------------------------------------\n",
    "# Solução 1: usa while e formato %d para imprimir a resposta\n",
    "#\n",
    "#----------------------------------------------------------------\n",
    "#def main():\n",
    "\"\"\"    Programa que lê um número inteiro n >= 0 e imprime n!    \"\"\"\n",
    "print(\"Cálculo do fatorial de um número\\n\")\n",
    "\n",
    "# leia o valor de n\n",
    "n = int(input(\"Digite um número inteiro não-negativo: \"))\n",
    "\n",
    "# inicializações\n",
    "i     = 1  # contador\n",
    "n_fat = 1  \n",
    "\n",
    "# calcule n!\n",
    "while i <= n:\n",
    "    n_fat = n_fat * i \n",
    "    i = i + 1\n",
    "\n",
    "print(\"%d! = %d\" %(n, n_fat))     \n",
    "        \n",
    "# . . . . . . . . . . . . . . . . . . . . . . . . . . . . . . . .\n",
    "#main()"
   ]
  },
  {
   "cell_type": "code",
   "execution_count": 60,
   "id": "d794a29f-ec53-490e-8562-f53f993eda6d",
   "metadata": {},
   "outputs": [
    {
     "name": "stdout",
     "output_type": "stream",
     "text": [
      "Cálculo do fatorial de um número\n",
      "\n"
     ]
    },
    {
     "name": "stdin",
     "output_type": "stream",
     "text": [
      "Digite um número inteiro não-negativo:  5\n"
     ]
    },
    {
     "name": "stdout",
     "output_type": "stream",
     "text": [
      "5! = 120\n"
     ]
    }
   ],
   "source": [
    "#-----------------------------------------------------------------\n",
    "# Solução 2: usa o comando for ... in range(...)\n",
    "#\n",
    "#-----------------------------------------------------------------\n",
    "def main():\n",
    "    '''\n",
    "    Programa que lê um número inteiro n >= 0 e imprime n!\n",
    "    '''\n",
    "\n",
    "    print(\"Cálculo do fatorial de um número\\n\")\n",
    "\n",
    "    # leia o valor de n\n",
    "    n = int(input(\"Digite um número inteiro não-negativo: \"))\n",
    "\n",
    "    # inicialização da variável que armazena os fatoriais\n",
    "    n_fat = 1\n",
    "\n",
    "    # calcule n!\n",
    "    for i in range(2,n+1):\n",
    "        n_fat = n_fat * i \n",
    "\n",
    "    print(\"%d! = %d\" %(n, n_fat))     \n",
    "        \n",
    "# . . . . . . . . . . . . . . . . . . . . . . . . . . . . . . . .\n",
    "main()"
   ]
  },
  {
   "cell_type": "code",
   "execution_count": 68,
   "id": "55f70485-3084-401f-bdaf-662f1dd28ed1",
   "metadata": {},
   "outputs": [
    {
     "name": "stdin",
     "output_type": "stream",
     "text": [
      "Digite um número:  5\n"
     ]
    },
    {
     "name": "stdout",
     "output_type": "stream",
     "text": [
      "O fatorial é 5!: 120\n"
     ]
    }
   ],
   "source": [
    "## 2) Peça ao usuário para digitar um número e imprima o fatorial de n.\n",
    "\n",
    "## Resposta Sugerida\n",
    "\"\"\"O Fatorial é um número natural inteiro positivo representado por \"n!\".\n",
    "O fatorial de um número é calculado pela multiplicação desse número por todos os seus antecessores até chegar ao número 1.\n",
    "Dito isso, podemos começar nosso código. \n",
    "A abordagem é a mesma do exercício da Soma de Gauss (todos os números de 1 até n), \n",
    "mas em vez de somar devemos multiplicar cada valor novo pelo valor armazenado na variável fatorial. Veja:\"\"\"\n",
    "\n",
    "numero = int(input('Digite um número: '))\n",
    "fatorial = 1\n",
    "contador = 1\n",
    "\n",
    "while contador <= numero:\n",
    "    fatorial = fatorial*contador # multiplicação o fatorial pelo contador atual\n",
    "    contador = contador+1\n",
    "\n",
    "print('O fatorial é ' +str(numero)+\"!\" ':', fatorial)\n",
    "#Perceba que aqui nem fatorial, nem contador podem começar em zero porque esses valores serão multiplicado e isso resultaria sempre em zero. Então inicializamos ambas com 1."
   ]
  },
  {
   "cell_type": "markdown",
   "id": "b998d0ac-a2b8-471d-b4d9-d1b2f6da795a",
   "metadata": {},
   "source": [
    "3) Peça ao usuário para digitar um número N e some todos os números de 1 a N utilizando o laço de repetição while."
   ]
  },
  {
   "cell_type": "code",
   "execution_count": 74,
   "id": "07d0e1b2-8c1f-4296-bb1a-301d373beddf",
   "metadata": {},
   "outputs": [
    {
     "name": "stdin",
     "output_type": "stream",
     "text": [
      "Digite um número : 5\n"
     ]
    },
    {
     "name": "stdout",
     "output_type": "stream",
     "text": [
      "15\n"
     ]
    }
   ],
   "source": [
    "N = int(input('Digite um número :'))\n",
    "\n",
    "cont = 0\n",
    "soma = 0\n",
    "\n",
    "while N >= cont :\n",
    "    soma = soma + cont\n",
    "     # cont += ...\n",
    "    cont = cont + 1\n",
    "print(soma)\n",
    "    \n",
    "   "
   ]
  },
  {
   "cell_type": "code",
   "execution_count": 70,
   "id": "45649559-728d-4c8b-9fdf-6bae9cf617a1",
   "metadata": {},
   "outputs": [
    {
     "name": "stdin",
     "output_type": "stream",
     "text": [
      "Digite um número:  5\n"
     ]
    },
    {
     "name": "stdout",
     "output_type": "stream",
     "text": [
      "15\n"
     ]
    }
   ],
   "source": [
    "## 3) Peça ao usuário para digitar um número N e some todos os números de 1 a N utilizando o laço de repetição while.\n",
    "## Resposta Sugerida\n",
    "\"\"\"Para escrever esse código, podemos pensar no exercício de contagem que já estamos acostumados, com um laço e uma variável incremental. \n",
    "A diferença é que além de contar, temos que somar cada novo valor em uma outra variável (no nosso caso, será a variável soma). \n",
    "Ou seja, a cada iteração nós incrementamos o contador e somamos esse novo valor à variável soma. No final, exibimos para o usuário. Veja:\n",
    "\"\"\"\n",
    "numero = int(input('Digite um número: '))\n",
    "soma = 0 # variável que irá receber todas as somas\n",
    "contador = 0 \n",
    "\n",
    "while contador <= numero:\n",
    "  soma = soma + contador # o novo valor do contador é incrementado à soma\n",
    "  contador = contador + 1\n",
    "\n",
    "print(soma)\n",
    "\"\"\"Perceba que o contador nesse caso pode começar tanto em 0 como em 1 (depende de como foi montado o while)\n",
    "e que o resultado é o mesmo obtido pela Soma de Gauss (google it).\"\"\""
   ]
  },
  {
   "cell_type": "markdown",
   "id": "0e6eace9-7b4b-4edf-a764-d1b400e0ce63",
   "metadata": {},
   "source": [
    "4) Faça um programa que imprima a tabuada do 9 (de 9 * 1 a 9 * 10) usando loops."
   ]
  },
  {
   "cell_type": "code",
   "execution_count": 82,
   "id": "d691d31a-a559-4ac8-8c91-c847982314fc",
   "metadata": {},
   "outputs": [
    {
     "name": "stdin",
     "output_type": "stream",
     "text": [
      "Digite um numero para saber a tabuada do 9: 9\n"
     ]
    },
    {
     "name": "stdout",
     "output_type": "stream",
     "text": [
      "9 x 9 é 81\n"
     ]
    }
   ],
   "source": [
    "n = int(input('Digite um numero para saber a tabuada do 9:'))\n",
    "r = abs(9 * n)\n",
    "resp = False\n",
    "\n",
    "while not resp  :\n",
    "    if n<0 or n > 10 :\n",
    "        print('Número inválido . Por favor, digite entre 0 e 10:')\n",
    "        n = int(input('Digite um numero para saber a tabuada do 9:'))\n",
    "    else:\n",
    "        print('9 x',n ,'é',r)\n",
    "        break"
   ]
  },
  {
   "cell_type": "code",
   "execution_count": 77,
   "id": "4f81477e-4ff8-49ee-a209-85190c6e2de9",
   "metadata": {},
   "outputs": [
    {
     "name": "stdout",
     "output_type": "stream",
     "text": [
      "0 x 9 = 0\n",
      "1 x 9 = 9\n",
      "2 x 9 = 18\n",
      "3 x 9 = 27\n",
      "4 x 9 = 36\n",
      "5 x 9 = 45\n",
      "6 x 9 = 54\n",
      "7 x 9 = 63\n",
      "8 x 9 = 72\n",
      "9 x 9 = 81\n",
      "10 x 9 = 90\n"
     ]
    }
   ],
   "source": [
    "#exercicio tabuada ex3 com for in ...\n",
    "l1 = [0,1,2,3,4,5,6,7,8,9,10]\n",
    "l2 = [9]\n",
    "for num1 in l1:\n",
    "    for num2 in l2:\n",
    "        print(num1 , 'x', num2, '=' , num1*num2)"
   ]
  },
  {
   "cell_type": "code",
   "execution_count": 78,
   "id": "394ad7ef-7dc2-41a9-9821-a9499dd5fc9c",
   "metadata": {},
   "outputs": [
    {
     "name": "stdout",
     "output_type": "stream",
     "text": [
      "9\n",
      "18\n",
      "27\n",
      "36\n",
      "45\n",
      "54\n",
      "63\n",
      "72\n",
      "81\n",
      "90\n"
     ]
    }
   ],
   "source": [
    "## 4) Faça um programa que imprima a tabuada do 9 (de 9*1 a 9*10) usando loops.\n",
    "## Resposta Sugerida\n",
    "\"\"\"Simples exercício de laço com contador a fim de imprimir a tabuada do 9. \n",
    "Basta um contador iniciando em 1 (pede-se a tabuada de 1 a 9) e imprimir a multiplicação do contador por nove a cada repetição.\n",
    "\"\"\"\n",
    "contador = 1\n",
    "\n",
    "while contador <= 10:\n",
    "    print(contador*9)\n",
    "    contador = contador+1"
   ]
  },
  {
   "cell_type": "markdown",
   "id": "8aa0c156-c05a-4bb1-9370-81078e6c6d7b",
   "metadata": {},
   "source": [
    "5) Faça um programa que recebe um número inteiro do usuário e imprime na tela a quantidade de divisores desse número e quais são eles."
   ]
  },
  {
   "cell_type": "code",
   "execution_count": null,
   "id": "626cf270-2e02-40c6-9e3f-0b89efe37014",
   "metadata": {},
   "outputs": [],
   "source": [
    "n = int(input('Digite um numero inteiro:'))"
   ]
  },
  {
   "cell_type": "code",
   "execution_count": 86,
   "id": "14c300b0-dd44-44c6-86c7-df0d551b216b",
   "metadata": {},
   "outputs": [
    {
     "name": "stdin",
     "output_type": "stream",
     "text": [
      "Digite um número inteiro:  100\n"
     ]
    },
    {
     "name": "stdout",
     "output_type": "stream",
     "text": [
      "Divisor 1 : 1\n",
      "Divisor 2 : 2\n",
      "Divisor 3 : 4\n",
      "Divisor 4 : 5\n",
      "Divisor 5 : 10\n",
      "Divisor 6 : 20\n",
      "Divisor 7 : 25\n",
      "Divisor 8 : 50\n",
      "Divisor 9 : 100\n",
      "Número de divisores: 9\n"
     ]
    }
   ],
   "source": [
    "## Resposta Sugerida\n",
    "\"\"\"Aqui a ideia é fazer um laço de repetição com auxílio de uma variável incremental como todos os outros \n",
    "só que nesse caso temos uma verificação alheia ao laço. \n",
    "Nosso objetivo é encontrar, contar e imprimir os divisores de um número qualquer.\n",
    "\n",
    "Para isso, lembre-se que o menor divisor é sempre 1 e o maior divisor é sempre o próprio número, \n",
    "então faz sentido começar com o nosso contador em 1 e percorrer todos os valores até o próprio número.\n",
    "\n",
    "Isso significa que além de fazer uma comparação a cada repetição para saber se o laço chegou ao fim, \n",
    "precisamos também verificar se o contador (aqui definido como divisor) é um divisor para o número escolhido pelo usuário. \n",
    "Por isso utilizamos o operador % que nos retorna o resto de uma divisão entre dois números. Veja:\"\"\"\n",
    "\n",
    "\n",
    "numero = int(input(\"Digite um número inteiro: \"))\n",
    "divisor = 1 # variável incremental \n",
    "quantidade_divisores = 0 # variável para guardar o número de divisores\n",
    "\n",
    "while divisor <= numero:\n",
    "  if numero % divisor == 0: # verifica se o resto da divisão é zero (se for, é divisor)\n",
    "    quantidade_divisores += 1 # se for divisor, aumenta o número de divisores em 1\n",
    "    print(\"Divisor\",quantidade_divisores,\":\",divisor)\n",
    "  divisor += 1 # incrementa a variável de contagem\n",
    "print(\"Número de divisores:\",quantidade_divisores)\n",
    "\n",
    "\n",
    "###Assim, a cada repetição, verificamos se o número atual é um divisor do número escolhido ou não e se for, \n",
    "###incrementamos o número de contadores e imprimimos na tela esse divisor. \n",
    "###Note que sempre haverá pelo menos 2 divisores (1 e o próprio número) e se não houver mais de 2, o número é considerado primo, \n",
    "###então esse algoritmo também poderia ser usado para verificar se um determinado número é primo."
   ]
  },
  {
   "cell_type": "markdown",
   "id": "89e30221-0c4b-46a6-b222-f099f416d3c7",
   "metadata": {},
   "source": [
    "6) Faça um programa, usando loops, que peça para um usuário digitar um número e que só finaliza quando o usuário digitar 0. Ao final imprima a soma de todos os números digitados."
   ]
  },
  {
   "cell_type": "code",
   "execution_count": 2,
   "id": "657aa90e-e79d-4ff0-8ae9-a548c1676bed",
   "metadata": {},
   "outputs": [
    {
     "name": "stdin",
     "output_type": "stream",
     "text": [
      "Digite um número: 5\n",
      "Numero diferente de zero, por favor, digite zero: 4\n",
      "Numero diferente de zero, por favor, digite zero: 3\n",
      "Numero diferente de zero, por favor, digite zero: 0\n"
     ]
    },
    {
     "name": "stdout",
     "output_type": "stream",
     "text": [
      "Numero digitado foi zero, parabens!Soma total igual a  5.0\n"
     ]
    }
   ],
   "source": [
    "n = float(input('Digite um número:'))\n",
    "resp = False\n",
    "soma = n\n",
    "while not resp:\n",
    "    if n!=0 :\n",
    "        n = float(input('Numero diferente de zero, por favor, digite zero:'))\n",
    "    else:\n",
    "        print('Numero digitado foi zero, parabens!Soma total igual a ' , soma)\n",
    "        break\n",
    "        \n",
    "#FALTOU INCREMENTAR A SOMA , PARA QUE FOSSEM SOMADOS TODOS OS RESULTADOS A PARTIR DE N."
   ]
  },
  {
   "cell_type": "code",
   "execution_count": 4,
   "id": "023d651c-3ed9-4b9d-8fe8-b8ba6ab8f4f0",
   "metadata": {},
   "outputs": [
    {
     "name": "stdin",
     "output_type": "stream",
     "text": [
      "Digite um número: 5\n",
      "Numero diferente de zero, por favor, digite zero: 4\n",
      "Numero diferente de zero, por favor, digite zero: 10\n",
      "Numero diferente de zero, por favor, digite zero: 0\n"
     ]
    },
    {
     "name": "stdout",
     "output_type": "stream",
     "text": [
      "Numero digitado foi zero, parabens!Soma total igual a  19\n"
     ]
    }
   ],
   "source": [
    "n = int(input('Digite um número:'))\n",
    "resp = False\n",
    "soma = n\n",
    "while not resp:\n",
    "    if n!=0 :\n",
    "        n = int(input('Numero diferente de zero, por favor, digite zero:'))\n",
    "        soma += n\n",
    "    else:\n",
    "        print('Numero digitado foi zero, parabens!Soma total igual a ' , soma)\n",
    "        break"
   ]
  },
  {
   "cell_type": "code",
   "execution_count": 89,
   "id": "598ca97a-2048-4cdc-92db-1004350eaab2",
   "metadata": {},
   "outputs": [
    {
     "name": "stdin",
     "output_type": "stream",
     "text": [
      "Digite um número inteiro (para sair do laço, digite 0):  5\n",
      "Digite um número inteiro (para sair do laço, digite 0):  5\n",
      "Digite um número inteiro (para sair do laço, digite 0):  4\n",
      "Digite um número inteiro (para sair do laço, digite 0):  1\n",
      "Digite um número inteiro (para sair do laço, digite 0):  2\n",
      "Digite um número inteiro (para sair do laço, digite 0):  0\n"
     ]
    },
    {
     "name": "stdout",
     "output_type": "stream",
     "text": [
      "Soma de todos os números digitados: 17\n"
     ]
    },
    {
     "data": {
      "text/plain": [
       "'Perceba alguns detalhes importantes:\\n\\nAqui a variável soma é iniciada com o primeiro valor inserido, mas você pode ter realizado de forma diferente e tudo bem.\\n\\nEu poderia iniciar a variável numero com qualquer número diferente de zero e apagar a \\nprimeira linha do código (desde que soma passasse a iniciar com 0) assim evitando escrever o mesmo input duas vezes.\\n\\nA condição do \"while\" nesse caso poderia ser simplesmente:\\n\\n while numero:\\n     # resto do código\\nUma vez que o 0 (zero) para o Python é equivalente ao valor booleano False, \\nentão essa repetição ocorreria enquanto numero fosse um valor equivalente a True (diferente de zero).'"
      ]
     },
     "execution_count": 89,
     "metadata": {},
     "output_type": "execute_result"
    }
   ],
   "source": [
    "##Resposta Sugerida\n",
    "\"\"\"A ideia desse exercício é muito parecida com a do exercício em que o usuário digita um número e o \n",
    "programa realiza a soma de todos os inteiros de 1 até esse número (soma de Gauss).\n",
    "A diferença é que aqui nós somamos o número que o usuário digita a cada repetição e paramos de somar quando o usuário digita 0 (zero). \n",
    "Ou seja, dessa vez não usamos uma variável de contagem mas verificamos se o valor inserido a cada repetição é 0 ou não.\"\"\"\n",
    "\n",
    "numero = int(input(\"Digite um número inteiro (para sair do laço, digite 0): \"))\n",
    "soma = numero\n",
    "\n",
    "while numero != 0:\n",
    "  numero = int(input(\"Digite um número inteiro (para sair do laço, digite 0): \"))\n",
    "  soma += numero \n",
    "\n",
    "print(\"Soma de todos os números digitados:\",soma)\n",
    "\n",
    "\"\"\"Perceba alguns detalhes importantes:\n",
    "\n",
    "Aqui a variável soma é iniciada com o primeiro valor inserido, mas você pode ter realizado de forma diferente e tudo bem.\n",
    "\n",
    "Eu poderia iniciar a variável numero com qualquer número diferente de zero e apagar a \n",
    "primeira linha do código (desde que soma passasse a iniciar com 0) assim evitando escrever o mesmo input duas vezes.\n",
    "\n",
    "A condição do \"while\" nesse caso poderia ser simplesmente:\n",
    "\n",
    " while numero:\n",
    "     # resto do código\n",
    "Uma vez que o 0 (zero) para o Python é equivalente ao valor booleano False, \n",
    "então essa repetição ocorreria enquanto numero fosse um valor equivalente a True (diferente de zero).\"\"\""
   ]
  },
  {
   "cell_type": "markdown",
   "id": "03b65c72-5939-406d-9a52-1b6d895a3a3e",
   "metadata": {},
   "source": [
    "7) Faça um programa que sorteia um número N e peça para o usuário adivinhar o número sorteado. A cada resposta errada, o seu programa deve imprimir um aviso dizendo que a resposta está errada e pedir novamente uma resposta ao usuário.\n",
    "\n",
    "Para a realização desse exercício, utilize alguma função da biblioteca random (e.g. randint())."
   ]
  },
  {
   "cell_type": "code",
   "execution_count": 29,
   "id": "eb6b9245-6d54-4e3a-b8b2-315444e3c7ba",
   "metadata": {},
   "outputs": [
    {
     "name": "stdout",
     "output_type": "stream",
     "text": [
      "Pense em um número inteiro de 0 a 100\n"
     ]
    },
    {
     "name": "stdin",
     "output_type": "stream",
     "text": [
      "O número que você pensou é 50 n\n",
      "Número maior ou menor m\n"
     ]
    },
    {
     "name": "stdout",
     "output_type": "stream",
     "text": [
      "Selecione uma resposta válida (maior ou menor)\n"
     ]
    },
    {
     "name": "stdin",
     "output_type": "stream",
     "text": [
      "Número maior ou menor maior\n",
      "O número que você pensou é 75 s\n"
     ]
    },
    {
     "name": "stdout",
     "output_type": "stream",
     "text": [
      "O número que você pensou é 75\n"
     ]
    }
   ],
   "source": [
    "print('Pense em um número inteiro de 0 a 100')\n",
    "\n",
    "inferior = 0\n",
    "superior = 100\n",
    "resultado = (inferior + superior) // 2\n",
    "resposta = False\n",
    "\n",
    "while not resposta:\n",
    "    while True:\n",
    "        resposta_usuario = input('O número que você pensou é ' + str(resultado) )\n",
    "        if resposta_usuario == 's' or resposta_usuario == 'n':\n",
    "            break\n",
    "        else:\n",
    "            print('Selecione uma resposta válida (s ou n)')\n",
    "            \n",
    "    if resposta_usuario == 's':\n",
    "        resposta = True\n",
    "        \n",
    "    else:\n",
    "        while True:\n",
    "            maior_ou_menor = input('Número maior ou menor')\n",
    "            if maior_ou_menor == 'maior' or maior_ou_menor == 'menor':\n",
    "                break\n",
    "            else:\n",
    "                print('Selecione uma resposta válida (maior ou menor)')\n",
    "\n",
    "        if maior_ou_menor == 'maior':\n",
    "            inferior = resultado\n",
    "        else:\n",
    "            superior = resultado\n",
    "        resultado = (inferior + superior) // 2\n",
    "        \n",
    "print('O número que você pensou é', resultado)"
   ]
  },
  {
   "cell_type": "code",
   "execution_count": 10,
   "id": "7f38035d-514d-4e7f-80e2-4dbca5a3cebb",
   "metadata": {},
   "outputs": [
    {
     "name": "stdout",
     "output_type": "stream",
     "text": [
      "5\n"
     ]
    },
    {
     "name": "stdin",
     "output_type": "stream",
     "text": [
      "Advinhe o número inteiro escolhido entre 1 e 10:  5\n"
     ]
    },
    {
     "name": "stdout",
     "output_type": "stream",
     "text": [
      "Parabéns, voce acertou! O número escolhido foi: 5\n"
     ]
    }
   ],
   "source": [
    "## Resposta Sugerida\n",
    "\"\"\"Esse exercício é bastante interessante porque faz uso de uma biblioteca e apresenta um desafio para o usuário de modo que nem mesmo \n",
    "o desenvolvedor sabe a resposta certa até que de fato acerte o número escolhido.\n",
    "Para isso, vamos utilizar a biblioteca random com a função randint (pode-se utilizar outras funções da biblioteca para esse exercício, \n",
    "optamos pela randint por sua simplicidade) e a documentação da biblioteca pode ser encontrada aqui.\n",
    "Importamos a biblioteca e usamos a função randint que sorteia um número inteiro num intervalo delimitado (aqui, de 1 a 10). \n",
    "Como não imprimimos na tela, ninguém sabe o número escolhido até que o usuário acerte o palpite. Veja:\n",
    "\"\"\"\n",
    "import random\n",
    "\n",
    "sorteado = random.randint(1,10)\n",
    "\n",
    "numero = int(input('Advinhe o número inteiro escolhido entre 1 e 10: '))\n",
    "\n",
    "while numero != sorteado:\n",
    "    numero = int(input('Resposta errada! Tente novamente: '))\n",
    "\n",
    "print('Parabéns, voce acertou! O número escolhido foi:', sorteado)\n",
    "\n",
    "\n",
    "###Assim como num exercício anterior onde nosso laço se repetia até que o usuário digitasse um determinado valor, \n",
    "###aqui temos um laço que se repete até que o usuário acerte ou palpite, ou seja, enquanto o numero inserido for diferente do número sorteado.\n",
    "###Perceba que se o usuário acertar de primeira, o programa sequer entra no laço."
   ]
  },
  {
   "cell_type": "code",
   "execution_count": 11,
   "id": "e319b3d7-fd95-4870-9e9b-62fda5e296ef",
   "metadata": {},
   "outputs": [
    {
     "name": "stdout",
     "output_type": "stream",
     "text": [
      "Random number between 0 and 10 is 8\n",
      "Random number between -10 and -1 is -10\n",
      "Random number between -5 and 5 is  2\n"
     ]
    }
   ],
   "source": [
    "# Python3 program explaining work\n",
    "# of randint() function\n",
    "\n",
    "# imports random module\n",
    "import random\n",
    "\n",
    "# Generates a random number between\n",
    "# a given positive range\n",
    "r1 = random.randint(0, 10)\n",
    "print(\"Random number between 0 and 10 is % s\" % (r1))\n",
    "\n",
    "# Generates a random number between\n",
    "# two given negative range\n",
    "r2 = random.randint(-10, -1)\n",
    "print(\"Random number between -10 and -1 is % d\" % (r2))\n",
    "\n",
    "# Generates a random number between\n",
    "# a positive and a negative range\n",
    "r3 = random.randint(-5, 5)\n",
    "print(\"Random number between -5 and 5 is % d\" % (r3))\n"
   ]
  },
  {
   "cell_type": "markdown",
   "id": "b3c5775f-ddf0-4d62-822a-bb588c118b2b",
   "metadata": {},
   "source": [
    "8) Faça um programa que peça para o usuário digitar a idade, o salário e o sexo de uma pessoa até que as entradas digitadas sejam válidas.\n",
    "\n",
    "a. Idade: entre 0 e 150;\n",
    "\n",
    "b. Salário: maior que 0;\n",
    "\n",
    "c. Sexo: M, F ou Outro."
   ]
  },
  {
   "cell_type": "code",
   "execution_count": 7,
   "id": "d516e511-b4b2-49ab-9033-9e4676debe0a",
   "metadata": {},
   "outputs": [
    {
     "name": "stdin",
     "output_type": "stream",
     "text": [
      "\n",
      "Qual sua idade? -5\n",
      "\n",
      "Qual seu salário? -10\n",
      "\n",
      "Qual o seu sexo? g\n"
     ]
    },
    {
     "name": "stdout",
     "output_type": "stream",
     "text": [
      "\n",
      "Idade inválida, tente novamente! -5\n"
     ]
    },
    {
     "name": "stdin",
     "output_type": "stream",
     "text": [
      "\n",
      "Qual sua idade? 5\n"
     ]
    },
    {
     "name": "stdout",
     "output_type": "stream",
     "text": [
      "\n",
      "Sua idade é 5 anos.\n",
      "\n",
      "Salário negativo, favor inserir valor positivo.\n"
     ]
    },
    {
     "name": "stdin",
     "output_type": "stream",
     "text": [
      "\n",
      "Qual seu salário? 1000\n"
     ]
    },
    {
     "name": "stdout",
     "output_type": "stream",
     "text": [
      "\n",
      "Seu salário é 1000.0 reais.\n",
      "\n",
      "Sexo não encontrado.Entradas aceitáveis são M, F ou Outro\n"
     ]
    },
    {
     "name": "stdin",
     "output_type": "stream",
     "text": [
      "\n",
      "Qual o seu sexo? m\n"
     ]
    },
    {
     "name": "stdout",
     "output_type": "stream",
     "text": [
      "Você é do sexo  m .\n"
     ]
    }
   ],
   "source": [
    "i = int(input('\\nQual sua idade?')) \n",
    "sal = float(input('\\nQual seu salário?'))\n",
    "sex = input('\\nQual o seu sexo?')\n",
    "idade = False\n",
    "salario = False\n",
    "sexo = False\n",
    "\n",
    "while not idade:\n",
    "    if i<0 or i>=150:\n",
    "        print('\\nIdade inválida, tente novamente!', i)\n",
    "        i = int(input('\\nQual sua idade?'))\n",
    "    else:\n",
    "        print('\\nSua idade é', i, \"anos.\")\n",
    "        break\n",
    "        \n",
    "while not salario:\n",
    "    if sal<0:\n",
    "        print('\\nSalário negativo, favor inserir valor positivo.')\n",
    "        sal = float(input('\\nQual seu salário?'))\n",
    "    else:\n",
    "        print('\\nSeu salário é', sal, \"reais.\")\n",
    "        break\n",
    "while not sexo:    \n",
    "    if sex == 'M' or sex =='m' or sex =='Masculino' or sex == 'masculino' or sex == 'masc' :\n",
    "        print('\\nSexo Masculino.')\n",
    "        break\n",
    "    elif sex == 'F'or sex =='f' or sex =='Feminino' or sex == 'feminino' or sex == 'fem':\n",
    "        print('\\nSexo Feminino.')\n",
    "        break\n",
    "    elif sex == 'o' or sex == 'O' or sex == 'Outro' or sex == 'outro':\n",
    "        print('\\nSexo é outro.')\n",
    "        break\n",
    "    else:\n",
    "        print('\\nSexo não encontrado.Entradas aceitáveis são M, F ou Outro')\n",
    "        sex = input('\\nQual o seu sexo?')\n",
    "        print('Você é do sexo ', sex, \".\")\n",
    "        break"
   ]
  },
  {
   "cell_type": "code",
   "execution_count": 1,
   "id": "485de51f-e577-445c-af16-d666859e637f",
   "metadata": {},
   "outputs": [
    {
     "name": "stdin",
     "output_type": "stream",
     "text": [
      "Digite a sua idade:  -1\n",
      "Valor inválido. Digite um valor entre 0 e 150. 5\n",
      "Digite o seu salário:  10\n",
      "Digite o sexo com o qual se identifica:  d\n",
      "Valor inválido, digite \"M\", \"F\" ou \"Outro\". F\n"
     ]
    },
    {
     "name": "stdout",
     "output_type": "stream",
     "text": [
      "Idade é: 5\n",
      "Salário é: 10\n",
      "Sexo é: F\n"
     ]
    },
    {
     "data": {
      "text/plain": [
       "'Note que a cada entrada, temos um while para verificar se a informação inserida é válida. \\nCaso o usuário acerte na primeira tentativa de cada opção, nenhum laço será executado e o programa vai direto para as impressões finais.\\nEsse comportamento é bastante comum em cadastro de sites e você com certeza já viu por aí uma vez que o cadastro só pode ser feito \\ncorretamente se o usuário inserir as informações de acordo com os critérios do site (idade, telefone, CPF válido, força de senha, etc...).'"
      ]
     },
     "execution_count": 1,
     "metadata": {},
     "output_type": "execute_result"
    }
   ],
   "source": [
    "# Resposta Sugerida\n",
    "\n",
    "\"\"\"Esse exercício já apareceu em outro momento do curso, mas estamos revisitando pois ao aprender o conceito de laço de repetição, \n",
    "podemos torná-lo mais eficiente.\n",
    "Aqui a ideia é repetir o exercício mas em vez de imprimir uma mensagem de erro para dados inválidos, \n",
    "vamos também pedir que o usuário responda novamente, até inserir um dado válido.\n",
    "Novamente, usaremos o artifício de while com verificação de input que já conhecemos.\n",
    "\"\"\"\n",
    "i = int(input(\"Digite a sua idade: \"))\n",
    "while i < 0 or i > 150:\n",
    "  i = int(input(\"Valor inválido. Digite um valor entre 0 e 150.\"))\n",
    "\n",
    "sal = int(input(\"Digite o seu salário: \"))\n",
    "while sal <= 0:\n",
    "  sal = int(input(\"Valor inválido. Digite um valor maior que zero.\"))\n",
    "\n",
    "sex = input(\"Digite o sexo com o qual se identifica: \")\n",
    "while sex != \"M\" and sex != \"F\" and sex != \"Outro\":\n",
    "  sex = input('Valor inválido, digite \"M\", \"F\" ou \"Outro\".')\n",
    "\n",
    "print(\"Idade é:\", i)\n",
    "print(\"Salário é:\", sal)\n",
    "print(\"Sexo é:\", sex)\n",
    "\n",
    "\"\"\"Note que a cada entrada, temos um while para verificar se a informação inserida é válida. \n",
    "Caso o usuário acerte na primeira tentativa de cada opção, nenhum laço será executado e o programa vai direto para as impressões finais.\n",
    "Esse comportamento é bastante comum em cadastro de sites e você com certeza já viu por aí uma vez que o cadastro só pode ser feito \n",
    "corretamente se o usuário inserir as informações de acordo com os critérios do site (idade, telefone, CPF válido, força de senha, etc...).\"\"\""
   ]
  },
  {
   "cell_type": "code",
   "execution_count": null,
   "id": "275368e7-8b50-467b-9b29-159b1681580b",
   "metadata": {},
   "outputs": [
    {
     "name": "stdin",
     "output_type": "stream",
     "text": [
      "Digite a idade 5\n",
      "Digite o salário.(utilize ponto) 1\n"
     ]
    }
   ],
   "source": [
    "lista = [\"F\",\"f\",\"M\",\"m\",\"Outro\",\"outro\"]\n",
    "idade = int(input(\"Digite a idade\"))\n",
    "while True:\n",
    "    if idade in range (0,150):\n",
    "        salario = float(input(\"Digite o salário.(utilize ponto)\"))\n",
    "    \n",
    "        while True:   \n",
    "            if salario >0:\n",
    "                sexo = input(\"Digite o sexo (M, F ou Outro)\")\n",
    "                while True:\n",
    "                    if sexo in lista:\n",
    "                        print(idade,salario,sexo)\n",
    "                        break\n",
    "                    else:\n",
    "                        sexo = input(\"Sexo deve ser um dos seguintes: (M,F,Outro)\")\n",
    "                        \n",
    "            else:\n",
    "                salario = float(input(\"Salário deve ser um número maior que zero\"))\n",
    "    else:       \n",
    "        idade = int(input(\"Idade deve estar entre 0 e 150, digite novamente.\"))\n",
    "break"
   ]
  },
  {
   "cell_type": "markdown",
   "id": "93eb32e1-7a1e-44e0-9e4f-b8f97f46f68b",
   "metadata": {},
   "source": [
    "## 9) Desafio! - Calcule a soma de até mil termos da série 1 + 1/2 + 1/4 + 1/8 + 1/16 + ...\n",
    "\n",
    "Dica: Use três variáveis:\n",
    "\n",
    "• um contador, que começa em zero;\n",
    "\n",
    "• uma variável para a soma de todos os termos, que também começa em zero;\n",
    "\n",
    "• uma variável para cada termo, que começa em 1 e a cada loop é dividida por 2.\n",
    "\n",
    "A repetição da soma de mil termos pode ser feita com a função while contador < 1000."
   ]
  },
  {
   "cell_type": "code",
   "execution_count": null,
   "id": "39f932ee-01ba-4fde-886c-cffc34d01332",
   "metadata": {},
   "outputs": [],
   "source": [
    "c = 0\n",
    "s = 0\n",
    "l = []\n",
    "while c<1000:\n",
    "    "
   ]
  },
  {
   "cell_type": "code",
   "execution_count": null,
   "id": "a6d7f497-bf12-4dff-b01e-dca3da780989",
   "metadata": {},
   "outputs": [],
   "source": [
    "cont = 0\n",
    "\n",
    "lista_de_notas = []\n",
    "\n",
    "quantidade = int(input(\"Quantas notas tem? \"))\n",
    "\n",
    "while cont < quantidade :\n",
    "    cont+=1\n",
    "    notas = input('Qual é a ' +str(cont)+ 'a nota?')\n",
    "    lista_de_notas.append(float(notas))\n",
    "    \n",
    "    media = round(sum(lista_de_notas)/len(lista_de_notas),2)\n",
    "    \n",
    "print('A media das notas é : ',media)"
   ]
  },
  {
   "cell_type": "code",
   "execution_count": 5,
   "id": "45751a44-7845-4990-abd9-b346b7a66891",
   "metadata": {},
   "outputs": [
    {
     "name": "stdout",
     "output_type": "stream",
     "text": [
      "A soma é  2.0\n"
     ]
    },
    {
     "data": {
      "text/plain": [
       "'E é só isso. Se você teve como resultado o número 2 (ou algo muito próximo como 1.99999999 por questões computacionais), você acertou.\\nUm pouco mais de matematiquês: se você estranhou o fato de chegar a um número inteiro pequeno, \\nperceba que a cada repetição você está somando números cada vez menores a ponto de se tornarem desprezíveis: 1 + 1/2 + 1/4 + 1/8 + 1/16 + 1/32... \\nSe trata de uma série geométrica convergente (razão < 1) majorada em 2 (isso é BEM matematiquês, não se preocupe).\\nSe você trocar a operação de divisão por multiplicação por exemplo, você vai ter uma P.G. de razão 2 \\ne a soma vai crescer infinitamente uma vez que você está somando números cada vez maiores: 1 + 2 + 4 + 8 + 16 + 32...\\nOutras P.G. poderiam ser calculadas aqui, basta mudar o divisor (ou multiplicador) que aqui é 2 mas poderia ser 3, 4, 10, 20, etc.'"
      ]
     },
     "execution_count": 5,
     "metadata": {},
     "output_type": "execute_result"
    }
   ],
   "source": [
    "# Resposta Sugerida\n",
    "\"\"\"Apesar de ser um desafio, a programação é bem simples. Talvez a maior dificuldade seja entender o \"matematiquês\". \n",
    "Se você lembra da matemática do colégio, esse código simplesmente calcula a soma de todos os termos de uma \n",
    "P.G. (progressão geométrica) de razão 1/2 (meio).\n",
    "\n",
    "Veja a implementação seguindo as dicas do problema:\n",
    "\"\"\"\n",
    "contador = 0\n",
    "soma = 0\n",
    "valor = 1 \n",
    "\n",
    "while contador < 1000:\n",
    "  soma += valor\n",
    "  valor /= 2\n",
    "  contador +=1\n",
    "\n",
    "print('A soma é ',soma ,\".\")\n",
    "\n",
    "\"\"\"E é só isso. Se você teve como resultado o número 2 (ou algo muito próximo como 1.99999999 por questões computacionais), você acertou.\n",
    "Um pouco mais de matematiquês: se você estranhou o fato de chegar a um número inteiro pequeno, \n",
    "perceba que a cada repetição você está somando números cada vez menores a ponto de se tornarem desprezíveis: 1 + 1/2 + 1/4 + 1/8 + 1/16 + 1/32... \n",
    "Se trata de uma série geométrica convergente (razão < 1) majorada em 2 (isso é BEM matematiquês, não se preocupe).\n",
    "Se você trocar a operação de divisão por multiplicação por exemplo, você vai ter uma P.G. de razão 2 \n",
    "e a soma vai crescer infinitamente uma vez que você está somando números cada vez maiores: 1 + 2 + 4 + 8 + 16 + 32...\n",
    "Outras P.G. poderiam ser calculadas aqui, basta mudar o divisor (ou multiplicador) que aqui é 2 mas poderia ser 3, 4, 10, 20, etc.\"\"\""
   ]
  },
  {
   "cell_type": "markdown",
   "id": "a307d189-a5b8-410c-b41c-53bd5b3db32c",
   "metadata": {},
   "source": [
    "10) Super Desafio! - Calcule a soma de mil termos dos inversos dos fatoriais: 1/(1!) + 1/(2!) + 1/(3!) + 1/(4!) + ...\n",
    "\n",
    "Dica: Assim como no exercício anterior use três variáveis: um contador; uma variável para a soma; e uma variável para os termos. Lembre-se de que 4! = 4*3*2*1 que também é igual a 4*3!."
   ]
  },
  {
   "cell_type": "code",
   "execution_count": null,
   "id": "ff83b0e3-506c-43ef-a8c6-78b8578e1b20",
   "metadata": {},
   "outputs": [],
   "source": [
    "cont   = \n",
    "soma   = \n",
    "termos = "
   ]
  },
  {
   "cell_type": "code",
   "execution_count": 6,
   "id": "8cde49f5-29c8-41f6-802b-e13b226ff6fa",
   "metadata": {},
   "outputs": [
    {
     "name": "stdout",
     "output_type": "stream",
     "text": [
      "1.7182818284590455\n"
     ]
    }
   ],
   "source": [
    "# Resposta Sugerida\n",
    "\"\"\"Esse super desafio é a união do desafio de Progressão Geométrica de razão 1/2 com o exercício de Fatorial. \n",
    "Matematicamente falando, teremos uma série de razão 1/n! (1 sobre fatorial de n). \n",
    "Seguindo a ideia do primeiro desafio, essa série será uma soma de valores cada vez menores \n",
    "e tende a se estabilizar depois de um número de iterações (repetições).\n",
    "\n",
    "Nesse caso, além das variáveis do primeiro desafio, adicionei uma variável fatorial igual ao exercício de Fatorial, iniciando em 1. \n",
    "A cada iteração, calculamos o novo fatorial (que é sempre o fatorial anterior multiplicado pelo contador atual). Veja:\n",
    "\"\"\"\n",
    "contador = 1\n",
    "soma = 0\n",
    "valor = 1 \n",
    "fatorial = 1\n",
    "\n",
    "while contador < 1000:\n",
    "  fatorial *= contador\n",
    "  valor = 1/fatorial\n",
    "  soma += valor\n",
    "  contador +=1 \n",
    "\n",
    "print(soma)\n",
    "#Assim apenas adicionamos um passo a mais em relação ao desafio de P.G. que é calcular o fatorial e usá-lo na divisão no lugar do 2 (no desafio de P.G.)."
   ]
  }
 ],
 "metadata": {
  "kernelspec": {
   "display_name": "Python 3",
   "language": "python",
   "name": "python3"
  },
  "language_info": {
   "codemirror_mode": {
    "name": "ipython",
    "version": 3
   },
   "file_extension": ".py",
   "mimetype": "text/x-python",
   "name": "python",
   "nbconvert_exporter": "python",
   "pygments_lexer": "ipython3",
   "version": "3.8.8"
  }
 },
 "nbformat": 4,
 "nbformat_minor": 5
}
