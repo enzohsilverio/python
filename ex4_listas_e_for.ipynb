{
 "cells": [
  {
   "cell_type": "markdown",
   "id": "2e1aba24-3fe5-4991-8b21-b335610f95dc",
   "metadata": {},
   "source": [
    "1) Crie uma lista qualquer e faça um programa que imprima cada elemento da lista usando o for."
   ]
  },
  {
   "cell_type": "code",
   "execution_count": 3,
   "id": "e27b77c8-8868-4072-9ccb-59ec9fbdea8f",
   "metadata": {},
   "outputs": [
    {
     "name": "stdout",
     "output_type": "stream",
     "text": [
      "1\n",
      "2\n",
      "3\n",
      "4\n",
      "5\n"
     ]
    }
   ],
   "source": [
    "lista = [1,2,3,4,5]\n",
    "\n",
    "for elemento in lista :\n",
    "    print(elemento);"
   ]
  },
  {
   "cell_type": "markdown",
   "id": "8573a566-83bf-40f5-a52d-ad4a964e9176",
   "metadata": {},
   "source": [
    "2) Faça um programa que imprima todos os itens de uma lista usando while e compare com o exercício 1."
   ]
  },
  {
   "cell_type": "code",
   "execution_count": 95,
   "id": "30a666e0-1123-489b-b68d-3405cb3228c2",
   "metadata": {},
   "outputs": [
    {
     "name": "stdout",
     "output_type": "stream",
     "text": [
      "[1, 2, 3, 4, 5]\n"
     ]
    }
   ],
   "source": [
    "lista = [1,2,3,4,5]\n",
    "i = 0\n",
    "j = 1\n",
    "\n",
    "while i < j  :\n",
    "    i += 1\n",
    "    print(lista);"
   ]
  },
  {
   "cell_type": "code",
   "execution_count": 94,
   "id": "d4f5dc7a-dc4f-4af2-aba8-58da3f22bc3a",
   "metadata": {},
   "outputs": [
    {
     "name": "stdout",
     "output_type": "stream",
     "text": [
      "1\n",
      "2\n",
      "3\n",
      "4\n"
     ]
    }
   ],
   "source": [
    "lista = [1,2,3,4]\n",
    "i = 0\n",
    "while i < len(lista):\n",
    "    print(lista[i])\n",
    "    i += 1"
   ]
  },
  {
   "cell_type": "markdown",
   "id": "bb383e48-d595-4560-98e4-376bb6a02564",
   "metadata": {},
   "source": [
    "3) Faça um programa que peça para o usuário digitar um número n e imprima uma lista com todos os números de 0 a n-1.\n",
    "\n",
    "Exemplo: se o usuário digitar 5, o programa deve imprimir [0, 1, 2, 3, 4]"
   ]
  },
  {
   "cell_type": "code",
   "execution_count": 7,
   "id": "11e42eee-3e31-4215-acb7-e420b1b106c2",
   "metadata": {},
   "outputs": [
    {
     "name": "stdin",
     "output_type": "stream",
     "text": [
      "Digite um numero n :  5\n"
     ]
    },
    {
     "name": "stdout",
     "output_type": "stream",
     "text": [
      "[0, 1, 2, 3, 4]\n"
     ]
    }
   ],
   "source": [
    "n = int(input('Digite um numero n : '))\n",
    "cont = n-1 \n",
    "lista = []\n",
    "\n",
    "for n in range(cont,-1,-1):\n",
    "    if cont> 0 :\n",
    "        cont +=1\n",
    "        lista.append(n)\n",
    "print(lista[::-1]);"
   ]
  },
  {
   "cell_type": "code",
   "execution_count": 96,
   "id": "6f4e27ed-535e-41d3-9497-82829de8d4f6",
   "metadata": {},
   "outputs": [
    {
     "name": "stdin",
     "output_type": "stream",
     "text": [
      "Digite um número:  5\n"
     ]
    },
    {
     "name": "stdout",
     "output_type": "stream",
     "text": [
      "[0, 1, 2, 3, 4]\n"
     ]
    }
   ],
   "source": [
    "n = int(input(\"Digite um número: \"))\n",
    "lista = []\n",
    "for i in range(n):\n",
    "    lista.append(i)\n",
    "print(lista)"
   ]
  },
  {
   "cell_type": "markdown",
   "id": "d7bddcb8-62f2-4e97-b8d3-4934679b0102",
   "metadata": {},
   "source": [
    "4) Faça um programa que olhe todos os itens de uma lista e diga quantos deles são pares."
   ]
  },
  {
   "cell_type": "code",
   "execution_count": 12,
   "id": "44375335-7338-4821-800e-f9a6d34f6e5c",
   "metadata": {},
   "outputs": [
    {
     "name": "stdout",
     "output_type": "stream",
     "text": [
      "Na lista [0, 2, 4, 6, 8, 10, 12, 14, 16] são pares 9 dos 17 números.\n"
     ]
    }
   ],
   "source": [
    "lista = [0,1,2,3,4,5,6,7,8,9,10,11,12,13,14,15,16]\n",
    "lista_pares = []\n",
    "\n",
    "for n in lista :\n",
    "    if n %2 == 0 :\n",
    "        lista_pares.append(n)\n",
    "print('Na lista',lista_pares,'são pares',len(lista_pares), 'dos' ,len(lista),\"números.\")\n",
    "\n"
   ]
  },
  {
   "cell_type": "code",
   "execution_count": 97,
   "id": "b846dc7e-17ea-4883-ad83-d6793bd652b1",
   "metadata": {},
   "outputs": [
    {
     "name": "stdout",
     "output_type": "stream",
     "text": [
      "Na lista existem 6 números pares.\n"
     ]
    }
   ],
   "source": [
    "lista = [1, 4, -8, 12, 3, -5, 2, -14, 6]\n",
    "pares = 0\n",
    "for elemento in lista:\n",
    "    if elemento % 2 == 0:\n",
    "        pares += 1\n",
    "print(\"Na lista existem\", pares, \"números pares.\")"
   ]
  },
  {
   "cell_type": "markdown",
   "id": "5c3805f4-7a93-40ff-b3c1-df65a41a5c54",
   "metadata": {},
   "source": [
    "5) Faça um programa que imprima o maior número de uma lista, sem usar a função max()."
   ]
  },
  {
   "cell_type": "code",
   "execution_count": 1,
   "id": "073e5dda-41e9-4372-ad69-cdba9fbc4849",
   "metadata": {},
   "outputs": [
    {
     "name": "stdout",
     "output_type": "stream",
     "text": [
      "16\n"
     ]
    }
   ],
   "source": [
    "lista = [0,1,2,3,4,5,6,7,8,9,10,11,12,13,14,15,16]\n",
    "\n",
    "for n in lista:\n",
    "    print(lista[-1])\n",
    "    break"
   ]
  },
  {
   "cell_type": "code",
   "execution_count": 98,
   "id": "d1358db6-c7b4-44b2-b6b6-a89acd9625cf",
   "metadata": {},
   "outputs": [
    {
     "name": "stdout",
     "output_type": "stream",
     "text": [
      "O maior elemento da lista é 12\n"
     ]
    }
   ],
   "source": [
    "lista = [1, 4, -8, 12, 3, -5, 2, -14, 6]\n",
    "maior = lista[0]\n",
    "for elemento in lista:\n",
    "    if elemento > maior:\n",
    "        maior = elemento\n",
    "print(\"O maior elemento da lista é\", maior)"
   ]
  },
  {
   "cell_type": "code",
   "execution_count": 99,
   "id": "fc4b6b1b-da71-49c4-b590-80ebf53a1190",
   "metadata": {},
   "outputs": [
    {
     "data": {
      "text/plain": [
       "1"
      ]
     },
     "execution_count": 99,
     "metadata": {},
     "output_type": "execute_result"
    }
   ],
   "source": [
    "lista[0]"
   ]
  },
  {
   "cell_type": "markdown",
   "id": "8f9152ee-7d15-4b16-9938-f3aa3179f8e5",
   "metadata": {},
   "source": [
    "6) Agora usando a função max() faça um programa que imprima os três maiores números de uma lista.\n",
    "\n",
    "Dica: Use o método próprio de listas .remove()."
   ]
  },
  {
   "cell_type": "code",
   "execution_count": 88,
   "id": "d678fb96-bbc7-4586-af65-bd722d5bcc41",
   "metadata": {},
   "outputs": [],
   "source": [
    "lista = list(range(0,20))"
   ]
  },
  {
   "cell_type": "code",
   "execution_count": 89,
   "id": "b2d2d21c-4f80-4368-b897-a616c8f3d6ba",
   "metadata": {},
   "outputs": [
    {
     "data": {
      "text/plain": [
       "[0, 1, 2, 3, 4, 5, 6, 7, 8, 9, 10, 11, 12, 13, 14, 15, 16, 17, 18, 19]"
      ]
     },
     "execution_count": 89,
     "metadata": {},
     "output_type": "execute_result"
    }
   ],
   "source": [
    "lista"
   ]
  },
  {
   "cell_type": "code",
   "execution_count": 90,
   "id": "3d416f5c-ef12-4db5-bb6c-76ccc6bd208f",
   "metadata": {},
   "outputs": [
    {
     "name": "stdout",
     "output_type": "stream",
     "text": [
      "19\n",
      "18\n",
      "17\n"
     ]
    }
   ],
   "source": [
    "for i in range(3):\n",
    "    maior_numero = max(lista)\n",
    "    print(maior_numero)\n",
    "    lista.remove(maior_numero)"
   ]
  },
  {
   "cell_type": "code",
   "execution_count": 18,
   "id": "470bf865-6411-43bf-9179-bdb9c9c90231",
   "metadata": {},
   "outputs": [
    {
     "data": {
      "text/plain": [
       "20"
      ]
     },
     "execution_count": 18,
     "metadata": {},
     "output_type": "execute_result"
    }
   ],
   "source": [
    "idx_lista"
   ]
  },
  {
   "cell_type": "markdown",
   "id": "808d7a19-1b07-4b52-ad72-0940a71ad203",
   "metadata": {},
   "source": [
    "7) Faça um programa que, dadas duas listas de mesmo tamanho, crie uma nova lista com cada elemento igual a soma dos elementos da lista 1 com os da lista 2, na mesma posição.\n",
    "\n",
    "Exemplo:\n",
    "\n",
    "Dadas lista1 = [1, 4, 5] e lista2 = [2, 2, 3], então lista3 = [1+2, 4+2, 5+3] = [3, 6, 8]"
   ]
  },
  {
   "cell_type": "code",
   "execution_count": 18,
   "id": "cea34c5e-e513-476d-980c-7db929b10907",
   "metadata": {},
   "outputs": [],
   "source": [
    "lista1 = [1,4,5]\n",
    "lista2 = [2,2,3]\n",
    "lista3 = []\n",
    "\n",
    "lista3 = lista1 + lista2"
   ]
  },
  {
   "cell_type": "code",
   "execution_count": 13,
   "id": "d551492e-29fd-46ab-b986-5c87103f8d7f",
   "metadata": {},
   "outputs": [
    {
     "data": {
      "text/plain": [
       "[1, 4, 5, 2, 2, 3]"
      ]
     },
     "execution_count": 13,
     "metadata": {},
     "output_type": "execute_result"
    }
   ],
   "source": [
    "lista3"
   ]
  },
  {
   "cell_type": "code",
   "execution_count": 14,
   "id": "bed30b8c-661c-4508-8bda-a54126cd74ed",
   "metadata": {},
   "outputs": [],
   "source": [
    "lista1 = [1,4,5]\n",
    "lista2 = [2,2,3]\n",
    "lista3 = []\n",
    "\n",
    "lista1.append(lista2)"
   ]
  },
  {
   "cell_type": "code",
   "execution_count": 17,
   "id": "9666e273-4489-4a8f-8a35-6500f9d49543",
   "metadata": {},
   "outputs": [
    {
     "data": {
      "text/plain": [
       "[1, 4, 5, [2, 2, 3]]"
      ]
     },
     "execution_count": 17,
     "metadata": {},
     "output_type": "execute_result"
    }
   ],
   "source": [
    "lista1"
   ]
  },
  {
   "cell_type": "code",
   "execution_count": null,
   "id": "f2d27164-151e-4c4a-92cb-24aefe657c19",
   "metadata": {},
   "outputs": [],
   "source": [
    "#resposta sugerida\n",
    "\n",
    "lista1 = [1,4,5]\n",
    "lista2 = [2,2,3]\n",
    "lista3 = []\n",
    "if len(lista1) != len(lista2):\n",
    "    print(\"As listas tem tamanhos diferentes!\")\n",
    "else:\n",
    "    for i in range(len(lista1)):\n",
    "        valor = lista1[i] + lista2[i]\n",
    "        lista3.append(valor)\n",
    "    print(lista3)"
   ]
  },
  {
   "cell_type": "markdown",
   "id": "f67f2831-5d40-48bf-a72b-7c6c5d719f57",
   "metadata": {},
   "source": [
    "8) Faça um programa que dadas duas listas de mesmo tamanho, imprima o produto escalar entre elas.\n",
    "\n",
    "OBS: produto escalar é a soma do resultado da multiplicação entre o número na posição i da lista1 pelo número na posição i da lista2, com i variando de 0 ao tamanho da lista."
   ]
  },
  {
   "cell_type": "code",
   "execution_count": 23,
   "id": "ec5a025b-c9b0-4a94-9ba6-d8f6a2518d56",
   "metadata": {},
   "outputs": [
    {
     "name": "stdout",
     "output_type": "stream",
     "text": [
      "0 5\n",
      "1 12\n",
      "2 21\n",
      "3 32\n"
     ]
    }
   ],
   "source": [
    "l1 = [1,2,3,4]\n",
    "l2 = [5,6,7,8]\n",
    "\n",
    "for i in range(len(l1)):\n",
    "    print(i, l1[i]*l2[i])\n",
    "    #errado"
   ]
  },
  {
   "cell_type": "code",
   "execution_count": 101,
   "id": "75e45d8d-e173-4d57-af57-42abd6257345",
   "metadata": {},
   "outputs": [
    {
     "name": "stdout",
     "output_type": "stream",
     "text": [
      "25\n"
     ]
    }
   ],
   "source": [
    "#resposta sugerida\n",
    "\n",
    "lista1 = [1,4,5]\n",
    "lista2 = [2,2,3]\n",
    "soma = 0\n",
    "for i in range(len(lista1)):\n",
    "    soma = soma + lista1[i]*lista2[i]\n",
    "print(soma)"
   ]
  },
  {
   "cell_type": "markdown",
   "id": "4483d9c6-e8cb-41a2-a173-a7f1b7d00932",
   "metadata": {},
   "source": [
    "9) Faça um programa que pede para o usuário digitar 5 números e, ao final, imprime uma lista com os 5 números digitados pelo usuário (sem converter os números para int ou float).\n",
    "\n",
    "Exemplo: Se o usuário digitar 1, 5, 2, 3, 6, o programa deve imprimir a lista ['1','5','2','3','6']"
   ]
  },
  {
   "cell_type": "code",
   "execution_count": 35,
   "id": "db1802b6-c408-4ef2-ba7e-d8f8ffdf5671",
   "metadata": {},
   "outputs": [
    {
     "name": "stdin",
     "output_type": "stream",
     "text": [
      "Digite o 1o numero: 5\n",
      "Digite o 2o numero: 1\n",
      "Digite o 3o numero: 2\n",
      "Digite o 4o numero: 3\n",
      "Digite o 5o numero: 6\n"
     ]
    },
    {
     "data": {
      "text/plain": [
       "['5', '1', '2', '3', '6']"
      ]
     },
     "execution_count": 35,
     "metadata": {},
     "output_type": "execute_result"
    }
   ],
   "source": [
    "n = 5\n",
    "cont = 0\n",
    "n1 = input('Digite o 1o numero:')\n",
    "n2 = input('Digite o 2o numero:')\n",
    "n3 = input('Digite o 3o numero:')\n",
    "n4 = input('Digite o 4o numero:')\n",
    "n5 = input('Digite o 5o numero:')\n",
    "lista = [n1,n2,n3,n4,n5]\n",
    "\n",
    "while n < cont :\n",
    "        lista.append(n)\n",
    "lista"
   ]
  },
  {
   "cell_type": "code",
   "execution_count": 102,
   "id": "0bd0f9fc-42ea-44bf-adae-1bbba2b9e040",
   "metadata": {},
   "outputs": [
    {
     "name": "stdin",
     "output_type": "stream",
     "text": [
      "Digite um número:  5\n",
      "Digite um número:  4\n",
      "Digite um número:  5\n",
      "Digite um número:  6\n",
      "Digite um número:  6\n"
     ]
    },
    {
     "name": "stdout",
     "output_type": "stream",
     "text": [
      "['5', '4', '5', '6', '6']\n"
     ]
    }
   ],
   "source": [
    "#resposta sugerida\n",
    "lista = []\n",
    "for i in range(5):\n",
    "    num = input(\"Digite um número: \")\n",
    "    lista.append(num)\n",
    "print(lista)"
   ]
  },
  {
   "cell_type": "markdown",
   "id": "65fe8dba-f968-4ca7-bf6a-fe905d07c0be",
   "metadata": {},
   "source": [
    "10) Pegue a lista gerada no exercício anterior e transforme cada um dos itens dessa lista em um float.\n",
    "\n",
    "OBS: Não é para alterar o programa anterior, mas sim a lista gerada por ele."
   ]
  },
  {
   "cell_type": "code",
   "execution_count": 36,
   "id": "1fb59aa4-ec3e-44f2-94d8-2a910d575e07",
   "metadata": {},
   "outputs": [
    {
     "data": {
      "text/plain": [
       "['5', '1', '2', '3', '6']"
      ]
     },
     "execution_count": 36,
     "metadata": {},
     "output_type": "execute_result"
    }
   ],
   "source": [
    "lista"
   ]
  },
  {
   "cell_type": "code",
   "execution_count": 44,
   "id": "e85582d8-438f-47ee-b28b-703b350c178f",
   "metadata": {},
   "outputs": [],
   "source": [
    "lista = [float(i) for i in lista]"
   ]
  },
  {
   "cell_type": "code",
   "execution_count": 45,
   "id": "9e844c82-c4a3-46a5-98a1-582e7b9a617d",
   "metadata": {},
   "outputs": [
    {
     "data": {
      "text/plain": [
       "[1.0, 5.0, 2.0, 3.0, 6.0]"
      ]
     },
     "execution_count": 45,
     "metadata": {},
     "output_type": "execute_result"
    }
   ],
   "source": [
    "lista"
   ]
  },
  {
   "cell_type": "code",
   "execution_count": 103,
   "id": "46f92b69-3135-4df5-922a-8bf0f732fe17",
   "metadata": {},
   "outputs": [
    {
     "name": "stdin",
     "output_type": "stream",
     "text": [
      "Digite um número:  5\n",
      "Digite um número:  4\n",
      "Digite um número:  5\n",
      "Digite um número:  6\n",
      "Digite um número:  6\n"
     ]
    },
    {
     "name": "stdout",
     "output_type": "stream",
     "text": [
      "['5', '4', '5', '6', '6']\n"
     ]
    }
   ],
   "source": [
    "#resposta sugerida\n",
    "lista = []\n",
    "for i in range(5):\n",
    "    num = input(\"Digite um número: \")\n",
    "    lista.append(num)\n",
    "print(lista)\n",
    "\n",
    "for i in range(len(lista)):\n",
    "    lista[i] = float(lista[i])"
   ]
  },
  {
   "cell_type": "markdown",
   "id": "a95e19d4-96bd-42b8-b991-85efbc8839f2",
   "metadata": {},
   "source": [
    "11) Faça um programa que peça as 4 notas bimestrais e mostre a média aritmética delas, usando listas."
   ]
  },
  {
   "cell_type": "code",
   "execution_count": 65,
   "id": "3c1db7d1-f17f-46a7-b4de-eba2bd0bfe9b",
   "metadata": {},
   "outputs": [
    {
     "name": "stdin",
     "output_type": "stream",
     "text": [
      "Quantas notas são? 4\n",
      "Digite uma nota: 5\n",
      "Digite uma nota: 5\n",
      "Digite uma nota: 10\n",
      "Digite uma nota: 10\n"
     ]
    },
    {
     "name": "stdout",
     "output_type": "stream",
     "text": [
      "A lista de notas é : [5, 5, 10, 10]\n",
      "A media aritmetica é : 7.5\n"
     ]
    }
   ],
   "source": [
    "cont   = 0\n",
    "qtd = int(input('Quantas notas são?'))\n",
    "lista_notas = []\n",
    "\n",
    "\n",
    "\n",
    "while cont < qtd:\n",
    "    notas = int(input('Digite uma nota:'))\n",
    "    lista_notas.append(notas)\n",
    "    cont +=1\n",
    "\n",
    "media = sum(lista_notas)/len(lista_notas)\n",
    "print('A lista de notas é :', lista_notas)\n",
    "print('A media aritmetica é :', media)"
   ]
  },
  {
   "cell_type": "code",
   "execution_count": null,
   "id": "f44f61d2-50f9-4eeb-abfe-ac6a0b9d97dd",
   "metadata": {},
   "outputs": [],
   "source": [
    "cont = 0\n",
    "\n",
    "lista_de_notas = []\n",
    "\n",
    "qtd = int(input(\"Quantas notas tem? \"))\n",
    "\n",
    "while cont < qtd:\n",
    "    \n",
    "    nota = float(input(\"Digite a {}ª nota: \".format(cont+1)))\n",
    "    \n",
    "    while nota < 0 or nota > 10 :\n",
    "        nota = float(input(\"Digite uma nota válida (de 0 a 10): \"))\n",
    "    \n",
    "    lista_de_notas.append(nota)\n",
    "    \n",
    "    cont += 1\n",
    "\n",
    "media = sum(lista_de_notas)/len(lista_de_notas)\n",
    "print(\"A média do aluno foi de\", media)"
   ]
  },
  {
   "cell_type": "markdown",
   "id": "4303f0a4-9ce5-47ba-bdbe-1cb80c29fb9c",
   "metadata": {},
   "source": [
    "12) Enunciado\n",
    "Sorteie uma lista de 10 números e imprima:\n",
    "\n",
    "a. uma lista com os 4 primeiros números;\n",
    "\n",
    "b. uma lista com os 5 últimos números;\n",
    "\n",
    "c. uma lista contendo apenas os elementos das posições pares;\n",
    "\n",
    "d. uma lista contendo apenas os elementos das posições ímpares;\n",
    "\n",
    "e. a lista inversa da lista sorteada (isto é, uma lista que começa com o último elemento da lista sorteada e termina com o primeiro);\n",
    "\n",
    "f. uma lista inversa dos 5 primeiros números;\n",
    "\n",
    "g. uma lista inversa dos 5 últimos números."
   ]
  },
  {
   "cell_type": "code",
   "execution_count": 69,
   "id": "4c9d8f5a-6917-4c1d-9a64-7995b1f7da00",
   "metadata": {},
   "outputs": [
    {
     "name": "stdout",
     "output_type": "stream",
     "text": [
      "[6, 10, 8, 5, 9, 3, 2, 1, 7, 4]\n"
     ]
    }
   ],
   "source": [
    "import random\n",
    "\n",
    "# Criar uma lista com números entre 1 e 10\n",
    "lista = list(range(1,11))\n",
    "# Embaralha a lista de números \n",
    "random.shuffle(lista)"
   ]
  },
  {
   "cell_type": "code",
   "execution_count": 72,
   "id": "d44e8923-d521-4534-b6be-84de5526c5e7",
   "metadata": {},
   "outputs": [
    {
     "name": "stdout",
     "output_type": "stream",
     "text": [
      "[6, 10, 8, 5]\n"
     ]
    }
   ],
   "source": [
    "print(lista[:4])"
   ]
  },
  {
   "cell_type": "code",
   "execution_count": 77,
   "id": "3aac6bbc-b963-4529-b84a-aa0cdac5b91d",
   "metadata": {},
   "outputs": [
    {
     "name": "stdout",
     "output_type": "stream",
     "text": [
      "[3, 2, 1, 7, 4]\n"
     ]
    }
   ],
   "source": [
    "print(lista[5::])"
   ]
  },
  {
   "cell_type": "code",
   "execution_count": 80,
   "id": "914d0dfd-d8bd-4732-97d2-89ee3e61d4cd",
   "metadata": {},
   "outputs": [
    {
     "name": "stdout",
     "output_type": "stream",
     "text": [
      "Os números pares são [6, 10, 8, 2, 4]\n",
      "Os números ímpares são [5, 9, 3, 1, 7]\n"
     ]
    }
   ],
   "source": [
    "lista_pares = []\n",
    "lista_impares = []\n",
    "\n",
    "for i in lista:\n",
    "    if i%2 == 0 :\n",
    "        lista_pares.append(i)\n",
    "    else :\n",
    "        lista_impares.append(i)\n",
    "print(f'Os números pares são {lista_pares}')\n",
    "print(f'Os números ímpares são {lista_impares}')\n",
    "    "
   ]
  },
  {
   "cell_type": "code",
   "execution_count": 88,
   "id": "16bc2ca5-09eb-4420-b133-cc0758a6554b",
   "metadata": {},
   "outputs": [],
   "source": [
    "lista.reverse()"
   ]
  },
  {
   "cell_type": "code",
   "execution_count": 90,
   "id": "8424925b-fdb7-43be-87a4-0b593b240858",
   "metadata": {},
   "outputs": [
    {
     "data": {
      "text/plain": [
       "[4, 7, 1, 2, 3, 9, 5, 8, 10, 6]"
      ]
     },
     "execution_count": 90,
     "metadata": {},
     "output_type": "execute_result"
    }
   ],
   "source": [
    "lista"
   ]
  },
  {
   "cell_type": "code",
   "execution_count": 98,
   "id": "b2dd43f0-8b2f-447a-a371-b0f19a43d3a4",
   "metadata": {},
   "outputs": [
    {
     "data": {
      "text/plain": [
       "[4, 7, 1, 2, 3]"
      ]
     },
     "execution_count": 98,
     "metadata": {},
     "output_type": "execute_result"
    }
   ],
   "source": [
    "lista[:5]"
   ]
  },
  {
   "cell_type": "code",
   "execution_count": 99,
   "id": "1bb61e55-20e7-45f5-8c98-c9440cc4b90a",
   "metadata": {},
   "outputs": [
    {
     "data": {
      "text/plain": [
       "[9, 5, 8, 10, 6]"
      ]
     },
     "execution_count": 99,
     "metadata": {},
     "output_type": "execute_result"
    }
   ],
   "source": [
    "lista[5:]"
   ]
  },
  {
   "cell_type": "code",
   "execution_count": 104,
   "id": "c1a735fb-ff27-4861-8a13-4c5f3aa79353",
   "metadata": {},
   "outputs": [
    {
     "name": "stdout",
     "output_type": "stream",
     "text": [
      "Lista completa: [80, 38, 67, 91, 92, 53, 28, 54, 44, 18]\n",
      "4 primeiros números: [80, 38, 67, 91]\n",
      "5 últimos números: [53, 28, 54, 44, 18]\n",
      "Posições pares: [80, 67, 92, 28, 44]\n",
      "Posições ímpares: [38, 91, 53, 54, 18]\n",
      "Lista invertida: [18, 44, 54, 28, 53, 92, 91, 67, 38, 80]\n",
      "Lista invertida dos 5 primeiros: [92, 91, 67, 38, 80]\n",
      "Lista invertida dos 5 ultimos: [18, 44, 54, 28, 53]\n"
     ]
    }
   ],
   "source": [
    "##Resposta Sugerida\n",
    "\n",
    "import random\n",
    "\n",
    "numeros = random.sample(range(100), 10) # retorna uma lista de 10 elementos escolhidos aleatoriamente entre 0 e 99.\n",
    "\n",
    "print(\"Lista completa:\", numeros)\n",
    "# a.  uma lista com os 4 primeiros números;\n",
    "print(\"4 primeiros números:\", numeros[:4])\n",
    "# b.  uma lista com os 5 últimos números;\n",
    "print(\"5 últimos números:\", numeros[-5:])\n",
    "# c.  uma lista contendo apenas os elementos das posições pares;\n",
    "print(\"Posições pares:\", numeros[::2])\n",
    "# d.  uma lista contendo apenas os elementos das posições ímpares;\n",
    "print(\"Posições ímpares:\", numeros[1::2])\n",
    "# e.  a lista inversa da lista sorteada (isto é, uma lista que começa com o último elemento da lista sorteada e termina com o primeiro);\n",
    "print(\"Lista invertida:\", numeros[::-1])\n",
    "# f.  uma lista inversa dos 5 primeiros números;\n",
    "print(\"Lista invertida dos 5 primeiros:\", numeros[4::-1])\n",
    "# g.  uma lista inversa dos 5 últimos números.\n",
    "print(\"Lista invertida dos 5 ultimos:\", numeros[:-6:-1])"
   ]
  },
  {
   "cell_type": "code",
   "execution_count": null,
   "id": "58d996b1-333a-42f3-a389-cb95ce9ca435",
   "metadata": {},
   "outputs": [],
   "source": []
  },
  {
   "cell_type": "markdown",
   "id": "132672fa-3b72-4281-a36e-1ce15a060aba",
   "metadata": {},
   "source": [
    "13) Faça um programa que sorteia 10 números entre 0 e 100 e conte quantos números sorteados são maiores que 50."
   ]
  },
  {
   "cell_type": "code",
   "execution_count": 108,
   "id": "7a40e590-2418-4e4d-b590-83331ea9bca8",
   "metadata": {},
   "outputs": [],
   "source": [
    "import random\n",
    "\n",
    "# Criar uma lista com números entre 0 e 100\n",
    "lista = list(range(0,101,10))"
   ]
  },
  {
   "cell_type": "code",
   "execution_count": 109,
   "id": "8f0b027b-48f5-4490-bcbf-550e3ce46b02",
   "metadata": {},
   "outputs": [
    {
     "data": {
      "text/plain": [
       "[0, 10, 20, 30, 40, 50, 60, 70, 80, 90, 100]"
      ]
     },
     "execution_count": 109,
     "metadata": {},
     "output_type": "execute_result"
    }
   ],
   "source": [
    "lista"
   ]
  },
  {
   "cell_type": "code",
   "execution_count": 111,
   "id": "e539ed82-08c0-4676-bf6b-2de5aacb6e20",
   "metadata": {
    "tags": []
   },
   "outputs": [
    {
     "name": "stdout",
     "output_type": "stream",
     "text": [
      "Os números maiores que 50 são[60, 70, 80, 90, 100] , no total são 5\n"
     ]
    }
   ],
   "source": [
    "l_maior_50 = []\n",
    "for i in lista :\n",
    "   if i >50 :\n",
    "    l_maior_50.append(i)\n",
    "print(f'Os números maiores que 50 são{l_maior_50} , no total são {len(l_maior_50)}')"
   ]
  },
  {
   "cell_type": "code",
   "execution_count": 106,
   "id": "95091a10-8bd7-4c9b-8de9-3cc9d0fe92fb",
   "metadata": {},
   "outputs": [
    {
     "name": "stdout",
     "output_type": "stream",
     "text": [
      "[86, 83, 61, 67, 13, 73, 34, 84, 21, 79]\n",
      "números > 50 = 7\n"
     ]
    }
   ],
   "source": [
    "##Resposta Sugerida\n",
    "\n",
    "numeros = random.sample(range(101), 10)\n",
    "print(numeros)\n",
    "maior_que_50 = 0\n",
    "for n in numeros:\n",
    "    if n > 50:\n",
    "        maior_que_50 += 1\n",
    "print(\"números > 50 =\", maior_que_50)"
   ]
  },
  {
   "cell_type": "code",
   "execution_count": null,
   "id": "dd158436-0d72-45d8-9c56-f734307100f4",
   "metadata": {},
   "outputs": [],
   "source": []
  },
  {
   "cell_type": "markdown",
   "id": "968476fc-82ab-4fe8-9c86-e691e12d7653",
   "metadata": {},
   "source": [
    "14) Faça um programa que sorteie 10 números entre 0 e 100 e imprima:\n",
    "\n",
    "a. o maior número sorteado;\n",
    "\n",
    "b. o menor número sorteado;\n",
    "\n",
    "c. a média dos números sorteados;\n",
    "\n",
    "d. a soma dos números sorteados."
   ]
  },
  {
   "cell_type": "code",
   "execution_count": 60,
   "id": "09fc85c0-683c-4f3a-becb-f1479696f049",
   "metadata": {},
   "outputs": [
    {
     "data": {
      "text/plain": [
       "[0, 10, 20, 30, 40, 50, 60, 70, 80, 90, 100]"
      ]
     },
     "execution_count": 60,
     "metadata": {},
     "output_type": "execute_result"
    }
   ],
   "source": [
    "import random\n",
    "\n",
    "# Criar uma lista com números entre 0 e 100\n",
    "lista = list(range(0,101,10))\n",
    "lista"
   ]
  },
  {
   "cell_type": "code",
   "execution_count": 61,
   "id": "1d99ceee-1c3a-48b3-9ffe-97c7ab9b0c31",
   "metadata": {},
   "outputs": [
    {
     "name": "stdout",
     "output_type": "stream",
     "text": [
      "100\n"
     ]
    }
   ],
   "source": [
    "print(max(lista))"
   ]
  },
  {
   "cell_type": "code",
   "execution_count": 114,
   "id": "410ad03c-6519-4c04-8825-5767c0e3e5fb",
   "metadata": {},
   "outputs": [
    {
     "data": {
      "text/plain": [
       "0"
      ]
     },
     "execution_count": 114,
     "metadata": {},
     "output_type": "execute_result"
    }
   ],
   "source": [
    "min(lista)"
   ]
  },
  {
   "cell_type": "code",
   "execution_count": 4,
   "id": "c10841a5-c4c8-4acf-b3fb-a530f9c053ea",
   "metadata": {},
   "outputs": [
    {
     "data": {
      "text/plain": [
       "50.0"
      ]
     },
     "execution_count": 4,
     "metadata": {},
     "output_type": "execute_result"
    }
   ],
   "source": [
    "media = sum(lista)/len(lista)\n",
    "media"
   ]
  },
  {
   "cell_type": "code",
   "execution_count": 5,
   "id": "39591b28-2319-45e8-b2d1-45198a97a4bb",
   "metadata": {},
   "outputs": [
    {
     "data": {
      "text/plain": [
       "550"
      ]
     },
     "execution_count": 5,
     "metadata": {},
     "output_type": "execute_result"
    }
   ],
   "source": [
    "sum(lista)"
   ]
  },
  {
   "cell_type": "code",
   "execution_count": 110,
   "id": "078c741e-f6fd-43e4-b763-427876fa53d5",
   "metadata": {},
   "outputs": [
    {
     "name": "stdout",
     "output_type": "stream",
     "text": [
      "Os numeros sorteados foram :[51, 46, 95, 50, 12, 80, 99, 63, 76, 66]\n",
      "o maior número sorteado foi :99\n",
      "o menor número sorteado foi :12\n",
      "A média dos numeros sorteados foi :63.8\n",
      "o maior número sorteado foi :638\n"
     ]
    }
   ],
   "source": [
    "#RESPOSTA SUGERIDA\n",
    "\n",
    "numeros = random.sample(range(101), 10)\n",
    "print(f'Os numeros sorteados foram :{numeros}')\n",
    "\n",
    "# a.  o maior número sorteado;\n",
    "print(f'o maior número sorteado foi :{max(numeros)}')\n",
    "# b.  o menor número sorteado;\n",
    "print(f'o menor número sorteado foi :{min(numeros)}')\n",
    "# c.  a média dos números sorteados;\n",
    "print(f'A média dos numeros sorteados foi :{sum(numeros)/len(numeros)}')\n",
    "# d.  a soma dos números sorteados.\n",
    "print(f'o maior número sorteado foi :{sum(numeros)}')"
   ]
  },
  {
   "cell_type": "code",
   "execution_count": null,
   "id": "1250d11e-7d17-462c-8a78-c11da8831609",
   "metadata": {},
   "outputs": [],
   "source": []
  },
  {
   "cell_type": "markdown",
   "id": "fc5a3e47-bd68-48ee-b72b-91423a8661a1",
   "metadata": {},
   "source": [
    "15) Desafio 1 - Faça um programa que peça para o usuário digitar o nome e a idade de um aluno e o número de provas que esse aluno fez. Depois, o programa deve pedir para o usuário digitar as notas de cada prova do aluno. Ao final o programa deve imprimir uma lista contendo:\n",
    "\n",
    "a. Nome do aluno na posição 0;\n",
    "\n",
    "b. Idade do aluno na posição 1;\n",
    "\n",
    "c. Uma lista com todas as notas na posição 2;\n",
    "\n",
    "d. A média do aluno na posição 3;\n",
    "\n",
    "e. True ou False, caso a média seja maior que 5 ou não, na posição 4.\n",
    "\n",
    "Dica: Use o que você fez nos exercícios anteriores para criar esse programa."
   ]
  },
  {
   "cell_type": "code",
   "execution_count": 41,
   "id": "70a3c280-b55b-44a4-87f1-d3fc6109b483",
   "metadata": {},
   "outputs": [
    {
     "name": "stdin",
     "output_type": "stream",
     "text": [
      "Digite o nome do aluno:  Odair\n",
      "Digite a idade do aluno:  65\n",
      "Quantas provas o aluno fez?  4\n",
      "Digite uma nota: 1\n",
      "Digite uma nota: 10\n",
      "Digite uma nota: 10\n",
      "Digite uma nota: 5\n"
     ]
    },
    {
     "name": "stdout",
     "output_type": "stream",
     "text": [
      "A lista final é: ['Odair', 65, [1.0, 10.0, 10.0, 5.0], 6.5, True]\n"
     ]
    }
   ],
   "source": [
    "l_final= []\n",
    "passou = True\n",
    "nome = input('Digite o nome do aluno: ')\n",
    "l_final.append(nome)\n",
    "idade = int(input('Digite a idade do aluno: '))\n",
    "l_final.append(idade)\n",
    "cont   = 0\n",
    "l_notas = []\n",
    "qtd = int(input('Quantas provas o aluno fez? '))\n",
    "while cont < qtd:\n",
    "    notas = float(input('Digite uma nota:'))\n",
    "    l_notas.append(notas)\n",
    "    cont +=1\n",
    "l_final.append(l_notas)\n",
    "\n",
    "media = sum(l_notas)/len(l_notas)\n",
    "l_final.append(media)\n",
    "if media >= 5:\n",
    "        l_final.append(True)\n",
    "else:\n",
    "        l_final.append(False)\n",
    "print(f\"A lista final é: {l_final}\")\n",
    "\n"
   ]
  },
  {
   "cell_type": "code",
   "execution_count": 111,
   "id": "7f6d4dca-cdcd-4f9b-b98f-51aa5b2afe25",
   "metadata": {},
   "outputs": [
    {
     "name": "stdin",
     "output_type": "stream",
     "text": [
      "Qual o nome do aluno?  Enzo\n",
      "Qual a idade do aluno?  35\n",
      "Quantas provas o aluno fez?  3\n",
      "Digite uma nota de prova:  7\n",
      "Digite uma nota de prova:  8\n",
      "Digite uma nota de prova:  9\n"
     ]
    },
    {
     "name": "stdout",
     "output_type": "stream",
     "text": [
      "['Enzo', 35, [7.0, 8.0, 9.0], 8.0, True]\n"
     ]
    }
   ],
   "source": [
    "##RESPOSTA SUGERIDA\n",
    "\n",
    "nome = input(\"Qual o nome do aluno? \")\n",
    "idade = int(input(\"Qual a idade do aluno? \"))\n",
    "no_provas = int(input(\"Quantas provas o aluno fez? \"))\n",
    "notas = []\n",
    "for i in range(no_provas):\n",
    "    nota = float(input(\"Digite uma nota de prova: \"))\n",
    "    notas.append(nota)\n",
    "media = sum(notas)/len(notas)\n",
    "aprovado = (media >= 5)\n",
    "lista = [nome, idade, notas, media, aprovado]\n",
    "print(lista)"
   ]
  },
  {
   "cell_type": "code",
   "execution_count": null,
   "id": "f99f8981-ea68-4ea1-ae11-c28a2b95d8e3",
   "metadata": {},
   "outputs": [],
   "source": []
  },
  {
   "cell_type": "markdown",
   "id": "2602fc9c-9fc5-4310-b593-f43fbd1e204e",
   "metadata": {},
   "source": [
    "16) Desafio 2 - Faça um programa como o do item anterior, porém que imprima a média sem considerar a maior e menor nota do aluno (nesse caso o número de provas precisa ser obrigatoriamente maior que dois).\n",
    "\n",
    "Dica: crie uma cópia com a lista de todas as notas antes de fazer a média."
   ]
  },
  {
   "cell_type": "code",
   "execution_count": 115,
   "id": "ad0ab861-8b75-44eb-be37-43a4574f3de2",
   "metadata": {},
   "outputs": [
    {
     "name": "stdin",
     "output_type": "stream",
     "text": [
      "Digite o nome do aluno:  e\n",
      "Digite a idade do aluno:  3\n",
      "Quantas provas o aluno fez?  4\n",
      "Digite uma nota: 10\n",
      "Digite uma nota: 9\n",
      "Digite uma nota: 8\n",
      "Digite uma nota: 7\n"
     ]
    },
    {
     "name": "stdout",
     "output_type": "stream",
     "text": [
      "Essa é a lista das notas:[10.0, 9.0, 8.0, 7.0]\n",
      "A nota maior foi: 10.0\n",
      "A menor nota foi:7.0\n",
      "Essa é a lista das notas:[9.0, 8.0]\n",
      "A lista de notas sem max e min é: [9.0, 8.0]\n",
      "A lista final é: ['e', 3, [9.0, 8.0], 8.5, True]\n"
     ]
    }
   ],
   "source": [
    "l_final= []\n",
    "passou = True\n",
    "nome = input('Digite o nome do aluno: ')\n",
    "l_final.append(nome)\n",
    "idade = int(input('Digite a idade do aluno: '))\n",
    "l_final.append(idade)\n",
    "cont   = 0\n",
    "l_notas = []\n",
    "l_notas2 = l_notas\n",
    "qtd = int(input('Quantas provas o aluno fez? '))\n",
    "while cont < qtd:\n",
    "    notas = float(input('Digite uma nota:'))\n",
    "    l_notas.append(notas)\n",
    "    cont +=1\n",
    "print(f'Essa é a lista das notas:{l_notas}')\n",
    "l_notas = l_notas2\n",
    "print(f'A nota maior foi: {max(l_notas)}')\n",
    "print(f'A menor nota foi:{min(l_notas)}')\n",
    "l_notas2.remove(max(l_notas2))\n",
    "l_notas2.remove(min(l_notas2))\n",
    "print(f'Essa é a lista das notas:{l_notas}')\n",
    "l_final.append(l_notas)\n",
    "media = sum(l_notas2)/len(l_notas2)\n",
    "l_final.append(media)\n",
    "if media >= 5:\n",
    "        l_final.append(True)\n",
    "else:\n",
    "        l_final.append(False)\n",
    "print(f\"A lista de notas sem max e min é: {l_notas}\")\n",
    "print(f\"A lista final é: {l_final}\")\n",
    "\n"
   ]
  },
  {
   "cell_type": "code",
   "execution_count": 112,
   "id": "85addd1c-53ef-4cfc-86d3-55387a16a3a7",
   "metadata": {},
   "outputs": [
    {
     "name": "stdin",
     "output_type": "stream",
     "text": [
      "Qual o nome do aluno?  e\n",
      "Qual a idade do aluno?  3\n",
      "Quantas provas o aluno fez?  4\n",
      "Digite uma nota de prova:  102\n",
      "Digite uma nota de prova:  10\n",
      "Digite uma nota de prova:  9\n",
      "Digite uma nota de prova:  8\n"
     ]
    },
    {
     "name": "stdout",
     "output_type": "stream",
     "text": [
      "['e', 3, [102.0, 10.0, 9.0, 8.0], 9.5, True]\n"
     ]
    }
   ],
   "source": [
    "##Resposta Sugerida\n",
    "\n",
    "nome = input(\"Qual o nome do aluno? \")\n",
    "idade = int(input(\"Qual a idade do aluno? \"))\n",
    "no_provas = int(input(\"Quantas provas o aluno fez? \"))\n",
    "notas = []\n",
    "for i in range(no_provas):\n",
    "    nota = float(input(\"Digite uma nota de prova: \"))\n",
    "    notas.append(nota)\n",
    "notas2 = notas[:]  # Cópia da lista original para ser destruída\n",
    "notas2.remove(max(notas2))\n",
    "notas2.remove(min(notas2))\n",
    "media = sum(notas2)/len(notas2)\n",
    "aprovado = (media >= 5)\n",
    "lista = [nome, idade, notas, media, aprovado]\n",
    "print(lista)"
   ]
  },
  {
   "cell_type": "code",
   "execution_count": null,
   "id": "ff8c7aa5-17f5-45d4-b73c-fa37f163a0e3",
   "metadata": {},
   "outputs": [],
   "source": []
  },
  {
   "cell_type": "markdown",
   "id": "591304fd-2452-48a5-8704-e78b8a5ec3d4",
   "metadata": {},
   "source": [
    "17) Desafio 3 - Faça um programa que pede para o usuário digitar o CPF e verifica se ele é válido. Para isso, primeiramente o programa deve multiplicar cada um dos 9 primeiros dígitos do CPF pelos números de 10 a 2 e somar todas as respostas. O resultado deve ser multiplicado por 10 e dividido por 11. O resto dessa divisão deve ser igual ao primeiro dígito verificador (10º dígito). Em seguida, o programa deve multiplicar cada um dos 10 primeiros dígitos do CPF pelos números de 11 a 2 e repetir o procedimento anterior para verificar o segundo dígito verificador.\n",
    "\n",
    "Exemplo:\n",
    "\n",
    "Se o CPF for 286.255.878-87 o programa deve fazer primeiro:\n",
    "\n",
    "x = (2*10 + 8*9 + 6*8 + 2*7 + 5*6 + 5*5 + 8*4 + 7*3 + 8*2)\n",
    "\n",
    "Em seguida, o programa deve testar se x*10%11 == 8 (o décimo número do CPF). Se sim, o programa deve calcular:\n",
    "\n",
    "x = (2*11 + 8*10 + 6*9 + 2*8 + 5*7 + 5*6 + 8*5 + 7*4 + 8*3 + 8*2)\n",
    "\n",
    "e verificar se x*10%11 == 7 (o décimo primeiro número do CPF)."
   ]
  },
  {
   "cell_type": "code",
   "execution_count": 87,
   "id": "37d9f696-8129-43b3-a987-4aabeb3b07cf",
   "metadata": {},
   "outputs": [
    {
     "name": "stdin",
     "output_type": "stream",
     "text": [
      "Digite o número do cpf: 36065484865\n"
     ]
    },
    {
     "ename": "TypeError",
     "evalue": "object of type 'int' has no len()",
     "output_type": "error",
     "traceback": [
      "\u001b[1;31m---------------------------------------------------------------------------\u001b[0m",
      "\u001b[1;31mTypeError\u001b[0m                                 Traceback (most recent call last)",
      "\u001b[1;32m<ipython-input-87-10f3084ce23d>\u001b[0m in \u001b[0;36m<module>\u001b[1;34m\u001b[0m\n\u001b[0;32m      2\u001b[0m \u001b[0mcpf\u001b[0m \u001b[1;33m=\u001b[0m \u001b[1;33m[\u001b[0m\u001b[1;33m]\u001b[0m\u001b[1;33m\u001b[0m\u001b[1;33m\u001b[0m\u001b[0m\n\u001b[0;32m      3\u001b[0m \u001b[0mn\u001b[0m \u001b[1;33m=\u001b[0m \u001b[0mint\u001b[0m\u001b[1;33m(\u001b[0m\u001b[0minput\u001b[0m\u001b[1;33m(\u001b[0m\u001b[1;34m'Digite o número do cpf:'\u001b[0m\u001b[1;33m)\u001b[0m\u001b[1;33m)\u001b[0m\u001b[1;33m\u001b[0m\u001b[1;33m\u001b[0m\u001b[0m\n\u001b[1;32m----> 4\u001b[1;33m \u001b[1;32mwhile\u001b[0m \u001b[0mlen\u001b[0m\u001b[1;33m(\u001b[0m\u001b[0mn\u001b[0m\u001b[1;33m)\u001b[0m \u001b[1;33m>\u001b[0m \u001b[0mlen\u001b[0m\u001b[1;33m(\u001b[0m\u001b[0mcpf\u001b[0m\u001b[1;33m)\u001b[0m\u001b[1;33m:\u001b[0m\u001b[1;33m\u001b[0m\u001b[1;33m\u001b[0m\u001b[0m\n\u001b[0m\u001b[0;32m      5\u001b[0m     \u001b[0mcpf\u001b[0m\u001b[1;33m.\u001b[0m\u001b[0mappend\u001b[0m\u001b[1;33m(\u001b[0m\u001b[0mn\u001b[0m\u001b[1;33m)\u001b[0m\u001b[1;33m\u001b[0m\u001b[1;33m\u001b[0m\u001b[0m\n\u001b[0;32m      6\u001b[0m     \u001b[0mn\u001b[0m\u001b[1;33m+=\u001b[0m\u001b[1;36m1\u001b[0m\u001b[1;33m\u001b[0m\u001b[1;33m\u001b[0m\u001b[0m\n",
      "\u001b[1;31mTypeError\u001b[0m: object of type 'int' has no len()"
     ]
    }
   ],
   "source": [
    "verifica = list(range(10,1,-1))\n",
    "cpf = []\n",
    "n = int(input('Digite o número do cpf:'))\n",
    "while len(n) > len(cpf):\n",
    "    cpf.append(n)\n",
    "    n+=1\n",
    "print(cpf)\n",
    "print(verifica)"
   ]
  },
  {
   "cell_type": "code",
   "execution_count": 93,
   "id": "0ee610de-17fd-424c-ba2b-4d6b3535f181",
   "metadata": {},
   "outputs": [
    {
     "name": "stdin",
     "output_type": "stream",
     "text": [
      "Digite o seu CPF(apenas dígitos):  36065484865\n"
     ]
    },
    {
     "name": "stdout",
     "output_type": "stream",
     "text": [
      "[3, 6, 0, 6, 5, 4, 8, 4, 8, 6, 5]\n",
      "CPF Válido\n"
     ]
    }
   ],
   "source": [
    "CPF = list(input(\"Digite o seu CPF(apenas dígitos): \"))  # Convertemos para uma lista de dígitos\n",
    "for i in range(len(CPF)):\n",
    "    CPF[i] = int(CPF[i])  # Convertemos a lista para inteiros\n",
    "print(CPF)\n",
    "\n",
    "soma = 0\n",
    "\n",
    "for i in range(9):\n",
    "    soma = soma + CPF[i]*(10-i)\n",
    "\n",
    "if soma*10 % 11 == CPF[9]:\n",
    "    soma = 0\n",
    "    for i in range(10):\n",
    "        soma = soma + CPF[i] * (11 - i)\n",
    "    if soma*10 % 11 == CPF[10]:\n",
    "        print(\"CPF Válido\")\n",
    "    else:\n",
    "        print(\"CPF Inválido\")\n",
    "else:\n",
    "    print(\"CPF Inválido\")"
   ]
  },
  {
   "cell_type": "code",
   "execution_count": null,
   "id": "23b84a59-e051-468c-8daf-2746940037c0",
   "metadata": {},
   "outputs": [],
   "source": []
  }
 ],
 "metadata": {
  "kernelspec": {
   "display_name": "Python 3",
   "language": "python",
   "name": "python3"
  },
  "language_info": {
   "codemirror_mode": {
    "name": "ipython",
    "version": 3
   },
   "file_extension": ".py",
   "mimetype": "text/x-python",
   "name": "python",
   "nbconvert_exporter": "python",
   "pygments_lexer": "ipython3",
   "version": "3.8.8"
  }
 },
 "nbformat": 4,
 "nbformat_minor": 5
}
