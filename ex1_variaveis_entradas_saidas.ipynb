{
 "cells": [
  {
   "cell_type": "code",
   "execution_count": 1,
   "id": "290b13a7-cb30-4d55-ad79-756e65293494",
   "metadata": {},
   "outputs": [
    {
     "name": "stdout",
     "output_type": "stream",
     "text": [
      "Olá, mundo!\n"
     ]
    }
   ],
   "source": [
    "#1)\n",
    "\"\"\"Faça um programa que mostre a mensagem \"Olá, mundo!\" na tela.\"\"\"\n",
    "\n",
    "print('Olá, mundo!')"
   ]
  },
  {
   "cell_type": "code",
   "execution_count": null,
   "id": "a0da7367-c92b-49ed-8682-3651afa69542",
   "metadata": {},
   "outputs": [],
   "source": [
    "#Resposta Sugerida\n",
    "Essa é a primeira função que aprendemos ao programar em Python e serve para imprimir um determinado conteúdo na tela. Veja:\n",
    "\n",
    "print('Olá, mundo!')\n",
    "Apesar da simplicidade dessa linha e do fato de que só estudaremos Funções de maneira mais profunda em uma aula futura, atende-se desde já alguns detalhes importantes:\n",
    "\n",
    "Funções como essa são comandos que realizam uma determinada ação através de uma série de linhas de código que não vemos, simplificando nosso trabalho como desenvolvedor.\n",
    "\n",
    "Uma função padrão do Python é sempre chamada com parêntesis no final e, dentro deles, os parâmetros (ou argumentos) que a função deve receber. Algumas funções não precisam de argumentos e nesse caso chamamos com () vazios.\n",
    "\n",
    "Ao utilizar uma função, atente-se a como ela é escrita. Letras maiúsculas e minúsculas fazem diferença: print() existe e Print() não existe, por exemplo. Geralmente as ferramentas de programação indicam quando uma função está sendo usada mudando a cor da função como vemos nessa solução.\n",
    "\n",
    "Curiosidade: \"Hello World!” é uma frase que foi imortalizada pelos criadores da linguagem de programação C,\n",
    "os americanos Brian Kernighan e Dennis Ritchie no livro “The C Programming Language”. \n",
    "No livro, temos esse mesmo trecho que vemos em português \"Olá, mundo!\" ou \"Alô, mundo!\" nesse exercício sendo usado para ensinar iniciantes na linguagem a imprimir \n",
    "uma mensagem na tela. Desde então, tornou-se uma tradição repetir o mesmo exercício para todas as outras linguagens que surgiriam desde então."
   ]
  },
  {
   "cell_type": "code",
   "execution_count": 8,
   "id": "6ed6c1d1-c04b-420f-a4c1-59bc61331e66",
   "metadata": {},
   "outputs": [
    {
     "name": "stdin",
     "output_type": "stream",
     "text": [
      "Informe um número:  5\n"
     ]
    },
    {
     "name": "stdout",
     "output_type": "stream",
     "text": [
      "O número informado foi 5 .\n"
     ]
    },
    {
     "data": {
      "text/plain": [
       "str"
      ]
     },
     "execution_count": 8,
     "metadata": {},
     "output_type": "execute_result"
    }
   ],
   "source": [
    "#2)\n",
    "\"\"\"Faça um programa que peça um número e mostre a mensagem \"O número informado foi [número]\".\"\"\"\n",
    "\n",
    "n = input('Informe um número: ')\n",
    "print(\"O número informado foi\",n,\".\" )\n",
    "type(n)"
   ]
  },
  {
   "cell_type": "code",
   "execution_count": null,
   "id": "334d36e6-2782-45c4-9d41-72b884061398",
   "metadata": {},
   "outputs": [],
   "source": [
    "#Resposta Sugerida\n",
    "Aqui, antes de imprimir algo na tela para o usuário, também recebemos uma informação desse usuário para então montar a mensagem que será impressa. Para isso, utilizamos a função input. Veja:\n",
    "\n",
    "num = input(\"digite um número: \")\n",
    "print(\"O número informado foi\", num)\n",
    "Podemos notar uma diferença muito importante entre as duas funções utilizadas:\n",
    "\n",
    "A função imprimir uma mensagem para indicar ao usuário o que ele deve inserir como resposta e essa resposta será armazenada na variável num.\n",
    "\n",
    "O print, por sua vez, não é armazenado em uma variável porque a única coisa que ele faz é imprimir algo na tela.\n",
    "\n",
    "Podemos entender essa diferença como o que caracteriza as funções de entrada (input) e funções de saída (print)."
   ]
  },
  {
   "cell_type": "code",
   "execution_count": null,
   "id": "84d2bc50-d463-494c-868e-93f5af408350",
   "metadata": {},
   "outputs": [],
   "source": [
    "#3\n",
    "\"\"\"Faça um programa que peça um número para o usuário (string), converta-o para float e depois imprima-o na tela. Você consegue fazer a mesma coisa, porém convertendo para int?\"\"\"\n",
    "\n",
    "#string para float\n",
    "numero = float(input('Informe um número:'))\n",
    "print(\"O número informado foi \", numero )\n",
    "\n",
    "#string para int\n",
    "numero = int(input('Informe um número:'))\n",
    "print(\"O número informado foi \", numero )#Sim, é possivel."
   ]
  },
  {
   "cell_type": "code",
   "execution_count": null,
   "id": "f86e09b1-fc64-4762-967d-de9db4e7cc00",
   "metadata": {},
   "outputs": [],
   "source": [
    "#Resposta Sugerida\n",
    "Outra ferramenta muito importante na programação é a conversão de tipos. \n",
    "Isso significa que podemos converter, como vimos em aula, um valor de determinado tipo para um tipo novo. \n",
    "Contudo, é preciso cuidado para realizar essas transformações e esse exercício aborda esse conceito. \n",
    "Veja:\n",
    "\n",
    "#Convertendo para float\n",
    "\n",
    "num = input(\"digite um número: \")\n",
    "num = float(num)\n",
    "print(\"O número informado é\", num)\n",
    "\n",
    "#Convertendo para int\n",
    "\n",
    "num = input(\"digite um número: \")\n",
    "num = int(num)\n",
    "print(\"O número informado é\", num)\n",
    "\n",
    "Se você não lembra da aula, pode ter testado seu código e estar se perguntando qual é a pegadinha aqui porque não teve problemas. Vamos lá.\n",
    "Para a parte de float, tente converter o valor \"3,14\" por exemplo, com vírgula mesmo. \n",
    "Você terá um erro porque não pode converter esse valor para String. \n",
    "No Brasil, usamos a virgula para definir as casas decimais mas na programação utilizando o ponto \".\", então só podemos converter \"3.14\" nesse caso. \n",
    "Outro detalhe é que números separados por vírgula definem outro tipo de variável que veremos mais pra frente no curso.\n",
    "Digite agora \"3.14\" para o código de conversão para inteiros. \n",
    "Vai funcionar, mas o que será armazenado na variável num é o valor 3. \n",
    "Isso acontece porque a conversão para inteiro ignora a parte decimal do valor e você precisa considerar isso enquanto estiver programando."
   ]
  },
  {
   "cell_type": "code",
   "execution_count": 9,
   "id": "a5300f63-1e6a-4d6a-82ca-df0381b3df04",
   "metadata": {},
   "outputs": [
    {
     "name": "stdin",
     "output_type": "stream",
     "text": [
      "Informe um número: 5\n",
      "Informe outro número: 6\n"
     ]
    },
    {
     "name": "stdout",
     "output_type": "stream",
     "text": [
      "\n",
      "A soma é: 11\n"
     ]
    }
   ],
   "source": [
    "#4\n",
    "\"\"\"Faça um programa que peça dois números inteiros e imprima a soma deles.\"\"\"\n",
    "\n",
    "num1 = int(input('Informe um número:'))\n",
    "num2 = int(input('Informe outro número:'))\n",
    "\n",
    "soma = num1 + num2\n",
    "\n",
    "print('\\nA soma é:', soma )"
   ]
  },
  {
   "cell_type": "code",
   "execution_count": null,
   "id": "a38aa0a8-7817-46c0-8d75-ff25991c532b",
   "metadata": {},
   "outputs": [],
   "source": [
    "#Resposta Sugerida\n",
    "Aqui começamos ver a importância das variáveis para a programação. A ideia desse exercício é realizar um código de soma de números inteiros escolhidos pelo usuário, como se fosse uma calculadora bem limitada. Para isso, precisamos receber valores do usuário, convertê-los para o tipo Integer (inteiro) e armazená-los em variáveis para pode operá-los. Veja:\n",
    "\n",
    "num1 = int(input(\"digite um número: \"))\n",
    "num2 = int(input(\"digite outro número: \"))\n",
    "print('A soma é:', num1 + num2)\n",
    "Perceba que se eu quisesse fazer uma calculadora que soma números reais e eliminar a limitação de números inteiros, bastaria trocar a função de conversão de int() para float(). \n",
    "Assim eu poderia somar números reais.\n",
    "\n",
    "Outro ponto interessante é que poderíamos armazenar o resultado em outra variável e fazer outras operações com esse resultado antes de imprimi-lo."
   ]
  },
  {
   "cell_type": "code",
   "execution_count": 11,
   "id": "07d09616-11da-440d-9985-e7ee9a62fce0",
   "metadata": {},
   "outputs": [
    {
     "name": "stdin",
     "output_type": "stream",
     "text": [
      "Informe nota prova 1: 5\n",
      "Informe nota prova 2: 6\n",
      "Informe nota prova 3: 7\n",
      "Informe nota prova 4: 8\n"
     ]
    },
    {
     "name": "stdout",
     "output_type": "stream",
     "text": [
      "\n",
      "A média aritmética das notas é: 6.5\n"
     ]
    }
   ],
   "source": [
    "#5\n",
    "\"\"\"Faça um programa que peça as 4 notas bimestrais de um aluno e mostre a média aritmética delas.\"\"\"\n",
    "\n",
    "p1 = float(input('Informe nota prova 1:'))\n",
    "p2 = float(input('Informe nota prova 2:'))\n",
    "p3 = float(input('Informe nota prova 3:'))\n",
    "p4 = float(input('Informe nota prova 4:'))\n",
    "\n",
    "m_a = (p1 + p2 + p3 + p4)/4\n",
    "\n",
    "print('\\nA média aritmética das notas é:', m_a )"
   ]
  },
  {
   "cell_type": "code",
   "execution_count": null,
   "id": "dee41b58-b6d2-47b3-835a-435572f6cc08",
   "metadata": {},
   "outputs": [],
   "source": [
    "#Resposta Sugerida\n",
    "Nesse exercício, começamos a ver aplicações que poderiam muito bem ser utilizadas no mundo real, como o cálculo de média dos alunos de alguma disciplina escolar. Tudo o que precisamos fazer é criar variáveis suficientes para armazenar todas as notas de um determinado aluno e depois realizar a média aritimética das notas através de operações matemáticas com as variáveis.\n",
    "\n",
    "Para isso, vamos primeiro perguntar e armazenar as notas de um aluno através da função input. Como são valores numéricos com os quais faremos operações, podemos já na entrada, convertê-los para float uma vez que as notas geralmente vão de 0.0 a 10.0 com posíveis casas decimais. Depois é só fazer a média, veja:\n",
    "\n",
    "n1 = float(input(\"Digite a nota 1: \"))\n",
    "n2 = float(input(\"Digite a nota 2: \"))\n",
    "n3 = float(input(\"Digite a nota 3: \"))\n",
    "n4 = float(input(\"Digite a nota 4: \"))\n",
    "\n",
    "soma = n1+n2+n3+n4\n",
    "media = soma/4\n",
    "\n",
    "print (\"A média das notas é:\", media)\n",
    "\n",
    "#OU\n",
    "\n",
    "print(\"A média das notas é:\", (n1+n2+n3+n4)/4)\n",
    "Perceba que criamos uma variável para armazenar a soma das notas e depois uma para armazenar a média que é a divisão dessa soma pelo número de notas, 4 nesse caso.\n",
    "\n",
    "Essa abordagem permite que quem leia o código entenda facilmente o que está acontecendo. \n",
    "Contudo, dada a simplicidade da aplicação, poderíamos pular essas etapas e calcular a média logo antes de imprimir, dentro da função print como você pode ver."
   ]
  },
  {
   "cell_type": "code",
   "execution_count": null,
   "id": "c9c2fb69-b88a-4c37-b845-8e7c530c5472",
   "metadata": {},
   "outputs": [],
   "source": [
    "#6\n",
    "\"\"\"Faça um programa que peça o raio de um círculo, calcule e mostre sua área.\n",
    "\n",
    "Obs: Fórmula da área de um círculo: A = 3,14*(r**2), onde r é o raio.\n",
    "\"\"\"\n",
    "\n",
    "\n",
    "r = float(input('Defina o raio do círculo:'))\n",
    "\n",
    "a = 3.14*(r**2) \n",
    "\n",
    "print('A área do círculo é:', a)"
   ]
  },
  {
   "cell_type": "code",
   "execution_count": null,
   "id": "4f131a69-e04c-4cc1-8430-f2189468f5a2",
   "metadata": {},
   "outputs": [],
   "source": [
    "#Resposta Sugerida\n",
    "Agora que já estamos acostumados com esse tipo de exercício, está fácil né?\n",
    "\n",
    "Novamente precisamos usar a função input para receber uma entrada do usuário e salvá-la em uma variável. Depois disso, basta converter pra float (pode haver casas decimais) e utilizar os operadores do Python para montar a fórmula da área de um círculo com Python.\n",
    "\n",
    "raio = float(input(\"Digite o raio de um círculo: \"))\n",
    "print(\"A área do círculo é\", 3.14*(raio**2))\n",
    "\n",
    "Perceba que aqui também organizamos a prioridade da operação matemática com parêntesis como na matemática, indicando que operação deve ocorrer primeiro. \n",
    "Nesse caso, precisamos elevar o raio ao quadrado antes de multiplicado por Pi ou aproximadamente 3.14."
   ]
  },
  {
   "cell_type": "code",
   "execution_count": 18,
   "id": "6f439f7b-5160-461e-9af3-d6abee62efe9",
   "metadata": {},
   "outputs": [
    {
     "name": "stdin",
     "output_type": "stream",
     "text": [
      "Quanto você ganha por hora? 50\n",
      "Quantas horas você trabalhou nesse mês? 160\n"
     ]
    },
    {
     "name": "stdout",
     "output_type": "stream",
     "text": [
      "Seu salário nesse mês foi de: 8000.0\n"
     ]
    }
   ],
   "source": [
    "#7\n",
    "\"\"\"Faça um programa que pergunte quanto você ganha por hora e o número de horas trabalhadas no mês e depois,\n",
    "calcule e mostre o total do seu salário no referido mês.\"\"\"\n",
    "\n",
    "salario_hora = float(input('Quanto você ganha por hora?'))\n",
    "horas_mes = float(input('Quantas horas você trabalhou nesse mês?'))\n",
    "salario_mes = salario_hora * horas_mes\n",
    "print('Seu salário nesse mês foi de:', salario_mes)"
   ]
  },
  {
   "cell_type": "code",
   "execution_count": 13,
   "id": "c5de6959-1a7a-4c8a-ba69-a0e3c738484d",
   "metadata": {},
   "outputs": [
    {
     "name": "stdin",
     "output_type": "stream",
     "text": [
      "Quanto você ganha por hora:  50\n",
      "Qual a quantidade de horas que você trabalha por mês:  160\n"
     ]
    },
    {
     "name": "stdout",
     "output_type": "stream",
     "text": [
      "Você recebe 8000.0 por mês\n"
     ]
    }
   ],
   "source": [
    "#Resposta Sugerida\n",
    "\"\"\"Agora não tem mais segredo. Dois inputs para receber as entradas o usuário e a conversão para float uma vezes que essas entradas são valores numéricos que serão multiplicados entre si.\n",
    "\n",
    "Aqui usamos float porque tanto o salário por hora quanto a quantidade de horas trabalhadas são valores que podem conter casas decimais.\"\"\"\n",
    "\n",
    "salario = float(input(\"Quanto você ganha por hora: \"))\n",
    "horas = float(input(\"Qual a quantidade de horas que você trabalha por mês: \"))\n",
    "print(\"Você recebe\", salario*horas, \"por mês\")"
   ]
  },
  {
   "cell_type": "code",
   "execution_count": null,
   "id": "fd0bd02f-a3ab-4cea-8698-f7a0b88f63bf",
   "metadata": {},
   "outputs": [],
   "source": [
    "#8\n",
    "\"\"\"Faça um programa que peça a temperatura em graus Fahrenheit (F), transforme e mostre a temperatura em graus Celsius (°C).\n",
    "\n",
    "°C = (5 * (F-32) / 9)\n",
    "°F = ((C * 1.8) + 32)\n",
    "\n",
    "Obs: Tente também fazer um programa que faça o inverso: peça a temperatura em graus Celsius e a transforme em graus Fahrenheit.\"\"\"\n",
    "\n",
    "F = float(input('Qual a temperatura em graus Fahrenheit (F)?'))\n",
    "conv_C = (5 * (F-32) / 9)\n",
    "print('A temperatura em Celsius é:', conv_C)\n"
   ]
  },
  {
   "cell_type": "code",
   "execution_count": 19,
   "id": "47b40ddc-6e51-4c5c-9668-a48d5091189c",
   "metadata": {},
   "outputs": [
    {
     "name": "stdin",
     "output_type": "stream",
     "text": [
      "Digite a temperatura em Farenheit:  100\n"
     ]
    },
    {
     "name": "stdout",
     "output_type": "stream",
     "text": [
      "A temperatura digitada, em Celsius, é: 37.77777777777778\n"
     ]
    },
    {
     "name": "stdin",
     "output_type": "stream",
     "text": [
      "Digite a temperatura em graus Celsius:  37.7777777777778\n"
     ]
    },
    {
     "name": "stdout",
     "output_type": "stream",
     "text": [
      "A temperatura digitada, em Fahrenheit, é: 100.00000000000004\n"
     ]
    }
   ],
   "source": [
    "#Resposta Sugerida\n",
    "\"\"\"Apesar dessa fórmula esquisita que vem lá das aulas de física do colégio, o processo é o mesmo: recebemos o valor através de um input, \n",
    "convertemos para float uma vez que input sempre nos dá uma variável do tipo String e depois aplicamos a fórmula. \n",
    "Veja:\"\"\"\n",
    "\n",
    "# °F --> °C\n",
    "fahrenheit = float(input(\"Digite a temperatura em Farenheit: \"))\n",
    "celsius = 5*(fahrenheit-32)/9\n",
    "print(\"A temperatura digitada, em Celsius, é:\", celsius)\n",
    "\n",
    "\"\"\"Agora, pra fazer o oposto, é basicamente manipular a fórmula com matemática da escola. \n",
    "Fazendo as alterações, temos que a fórmula pra converter de Celcius para Fahrenheint é: C*9/5 + 32. \n",
    "Fazendo o mesmo que fizemos no primeiro passo, temos:\"\"\"\n",
    "\n",
    "# °C --> °F\n",
    "celsius = float(input(\"Digite a temperatura em graus Celsius: \"))\n",
    "fahrenheit = celsius*9/5 + 32\n",
    "print(\"A temperatura digitada, em Fahrenheit, é:\", fahrenheit)"
   ]
  },
  {
   "cell_type": "code",
   "execution_count": null,
   "id": "e6035591-9e72-44ec-adb5-b24989d88bd3",
   "metadata": {},
   "outputs": [],
   "source": [
    "#9\n",
    "\"\"\"Peça a temperatura em graus Celsius e a transforme em graus Fahrenheit\"\"\"\n",
    "\n",
    "C = float(input('Qual a temperatura em graus Celsius (C)?'))\n",
    "conv_F = ((C * 1.8) + 32)\n",
    "print('A temperatura em Fahrenheit é:', conv_F)\n",
    "\n",
    "#Faça um programa que peça o dia, o mês e o ano para o usuário e imprima a data completa no formato dd/mm/aaaa.\n",
    "\n",
    "dia = input('Que dia é hoje?(dd)')\n",
    "mes = input('Em que mês estamos?(mm)')\n",
    "ano = input('Qual ano estamos?(aaaa)')\n",
    "print('A data de hoje é:',dia,\"/\",mes,\"/\",ano)"
   ]
  },
  {
   "cell_type": "code",
   "execution_count": 5,
   "id": "f9042173-3945-4b09-9dab-5b535705b192",
   "metadata": {},
   "outputs": [
    {
     "name": "stdin",
     "output_type": "stream",
     "text": [
      "Qual o dia?  10\n",
      "Qual o mês?  0\n",
      "Qual o ano?  0\n"
     ]
    },
    {
     "name": "stdout",
     "output_type": "stream",
     "text": [
      "A data é: 10 / 0 / 0\n"
     ]
    },
    {
     "name": "stdin",
     "output_type": "stream",
     "text": [
      "Qual o dia?  0\n",
      "Qual o mês?  0\n",
      "Qual o ano?  0\n"
     ]
    },
    {
     "name": "stdout",
     "output_type": "stream",
     "text": [
      "A data é: 0/0/0\n"
     ]
    }
   ],
   "source": [
    "#Resposta Sugerida\n",
    "\"\"\"Outro exercício bastante simples que apenas recebe uma certa data e imprime na formatação pedida. Para tal, pedimos três entradas do usuário sendo respectivamente o dia, mês e ano corrente e depois imprimimos utilizando a propriedade do print de receber vários valores.\n",
    "\"\"\"\n",
    "dia = int(input(\"Qual o dia? \"))\n",
    "mes = int(input(\"Qual o mês? \"))\n",
    "ano = int(input(\"Qual o ano? \"))\n",
    "print(\"A data é:\", dia, \"/\", mes, \"/\", ano)\n",
    "\n",
    "\"\"\"Nessa solução sugerida, fizemos a conversão para inteiro e no print separamos todos os valores com vírgula mas aqui cabe um comentário sobre algo que você pode ter visto em sala: \n",
    "concatenação.\n",
    "\n",
    "Se fez os outros exercícios até aqui, já treinou bastante a operação entre variáveis como soma, multiplicação, divisão, etc. Mas todas aconteciam com números. \n",
    "Aqui vale comentar que é possível \"operar\" Strings, porém apenas através da multiplicação e adição.\n",
    "\n",
    "Multiplicar uma string significa literalmente isso. Em uma impressão, a variável dia multiplicada por 4 apareceria 4 vezes sem espaçamento entre cada vez. \n",
    "É uma propriedade pouco usada, diferente da adição de Strings que também chamamos de concatenação. \n",
    "Adicionar Strings é basicamente somar pedaços de string para permitir a impressão de valores constantes junto com valores variáveis. É mais fácil mostrar:\"\"\"\n",
    "\n",
    "dia = input(\"Qual o dia? \")\n",
    "mes = input(\"Qual o mês? \")\n",
    "ano = input(\"Qual o ano? \")\n",
    "print(\"A data é: \"+dia+\"/\"+mes+\"/\"+ano) ;\n",
    "\n",
    "#Visualmente o resultado será bastante similar mas aqui temos a função print recebendo apenas um valor (a soma de todos os valores passados) em vez de 6 valores separados por vírgulas como no primeiro caso. Note também que para somar Strings, todas as porções precisam ser Strings então nesse caso nem precisamos converter as entradas para Integer. \n",
    "#Dessa forma é possível manipular melhor o texto que se quer imprimir e economizar algumas transformações. Faça o teste."
   ]
  },
  {
   "cell_type": "code",
   "execution_count": null,
   "id": "7f10a239-756a-40bd-8c95-97bd9ee89027",
   "metadata": {},
   "outputs": [],
   "source": [
    "#10\n",
    "\"\"\"Faça um programa que peça 2 números inteiros e um número real, calcule e mostre:\n",
    "\n",
    "\n",
    "\n",
    "a) o produto do dobro do primeiro com metade do segundo.\n",
    "\n",
    "b) a soma do triplo do primeiro com o terceiro.\n",
    "\n",
    "c) o terceiro elevado ao cubo.\"\"\"\n",
    "\n",
    "\n",
    "int1 = int(input('digite um número inteiro: '))\n",
    "int2 = int(input('digite outro número inteiro: '))\n",
    "real1 = float(input('agora digite um número real: '))\n",
    "\n",
    "# a)    o produto do dobro do primeiro com metade do segundo.\n",
    "print(\"O produto do dobro do primeiro com metade do segundo:\", 2*int1*int2/2)\n",
    "\n",
    "#b)    a soma do triplo do primeiro com o terceiro.\n",
    "print(\"A soma do triplo do primeiro com o terceiro:\", 3*int1 + real1)\n",
    "\n",
    "#c)    o terceiro elevado ao cubo.\n",
    "print(\"O terceiro elevado ao cubo:\", real1**3)"
   ]
  },
  {
   "cell_type": "code",
   "execution_count": null,
   "id": "62470e63-819d-4d94-847a-ae60003a2dd4",
   "metadata": {},
   "outputs": [],
   "source": [
    "#Resposta Sugerida\n",
    "\n",
    "\"\"\"Este exercício serve apenas para reforçar mais o que já vimos uma vez que o começo do curso é bastante importante \n",
    "ainda mais para aqueles que nunca tiveram contato com a programação. Então vamos aprender pela repetição, ok?\n",
    "\n",
    "A ideia é realizar algumas operações dada a entrada de 3 números. \n",
    "Os 2 primeiros devem ser inteiros então a conversão do input desses deve ser para Integer através da função int(), \n",
    "o último é um número real (ou com casas decimais) então a conversão é para Float através da função float(). \n",
    "A partir disso, fazemos as operações pedidas:\"\"\"\n",
    "\n",
    "int1 = int(input('digite um número inteiro: '))\n",
    "int2 = int(input('digite outro número inteiro: '))\n",
    "real1 = float(input('agora digite um número real: '))\n",
    "\n",
    "# a)    o produto do dobro do primeiro com metade do segundo.\n",
    "print(\"O produto do dobro do primeiro com metade do segundo:\", 2*int1*int2/2)\n",
    "\n",
    "#b)    a soma do triplo do primeiro com o terceiro.\n",
    "print(\"A soma do triplo do primeiro com o terceiro:\", 3*int1 + real1)\n",
    "\n",
    "#c)    o terceiro elevado ao cubo.\n",
    "print(\"O terceiro elevado ao cubo:\", real1**3)\n",
    "Perceba que o número 14.0 por exemplo pode ser um inteiro mas para programação ele é um float porque o \".0\" do número indica a possibilidade de ter casas decimais."
   ]
  },
  {
   "cell_type": "code",
   "execution_count": null,
   "id": "0cdb8bde-b339-4c98-9ae7-94e3be22b74a",
   "metadata": {},
   "outputs": [],
   "source": [
    "#11\n",
    "\"\"\"Faça um programa que peça o peso e altura de uma pessoa e calcule seu IMC (Índice de Massa Corporal).\n",
    "\n",
    "Obs: IMC = Peso/Altura**2\"\"\"\n",
    "\n",
    "a = float(input(\"Qual a sua altura?\"))\n",
    "\n",
    "p = float(input(\"Qual o seu peso?\"))\n",
    "\n",
    "imc = (p) / ((a) ** 2)\n",
    "\n",
    "print(\"\\nSeu IMC é:\", imc)"
   ]
  },
  {
   "cell_type": "code",
   "execution_count": null,
   "id": "8deeda4b-c50a-427f-ab2e-70c68758162f",
   "metadata": {},
   "outputs": [],
   "source": [
    "#Resposta Sugerida\n",
    "\"\"\"Apesar de não haver técnica nova nesse exercício, ele é mais interessante por ser uma aplicação que poderia muito bem ser utilizada no mundo real. \n",
    "As variáveis que definimos possuem um significado específico e nós podemos fazer uso do resultado desse código na nossa vida que é o nosso índice de massa corporal.\n",
    "\"\"\"\n",
    "peso = float(input('Digite seu peso em kg:'))\n",
    "altura = float(input('Digite sua altura em m:'))\n",
    "\n",
    "print(\"Seu imc é:\", peso/(altura**2))\n",
    "Então novamente recebemos entradas do usuário, convertemos para float e armazenamos em variáveis. Após isso, fazemos o cálculo final e imprimimos para o usuário.\n",
    "\n",
    "\"\"\"Nesse caso, fizemos essa última parte toda dentro da função print mas você poderia realizar uma etapa a mais e salvar o resultado\n",
    "em uma variável para usar em outro momento do código se estivessemos falando de uma aplicação maior.\"\"\""
   ]
  },
  {
   "cell_type": "code",
   "execution_count": null,
   "id": "026f030a-7f02-468a-a5b0-4c06c1ddffc2",
   "metadata": {},
   "outputs": [],
   "source": [
    "#12\n",
    "\"\"\"Faça um programa que peça um valor monetário e aumente-o em 15%. Seu programa deve imprimir a mensagem “O novo valor é [valor]”.\"\"\"\n",
    "\n",
    "v = float(input('Digite o valor monetário :'))\n",
    "\n",
    "nv = (v + (0.15*v))\n",
    "\n",
    "print('O novo valor é ', nv)"
   ]
  },
  {
   "cell_type": "code",
   "execution_count": null,
   "id": "f6c5c966-511f-4c8e-9e52-bc7f401d6928",
   "metadata": {},
   "outputs": [],
   "source": [
    "#Resposta Sugerida\n",
    "\n",
    "\"\"\"Novamente temos a oportunidade de desenvolver um código de aplicação no mundo real: um algoritmo de reajuste de preço.\n",
    "\n",
    "A estratégia você já conhece: entrada do usuário convertida pra float (preço pode ter valores decimais, certo?) \n",
    "e depois a operação de reajuste de 15% que aqui poderia ser feita de várias formas mas optamos pela mais simples. \n",
    "Não se incomode se a sua estiver diferente disso se ainda assim estiver correta, ok?\"\"\"\n",
    "\n",
    "Apenas entenda que existem várias formas de escrever um código e nós geralmente optamos pela mais simples e elegante possível.\n",
    "\n",
    "valor = float(input(\"Qual o valor? \"))\n",
    "print(\"O novo valor é R$\",valor*1.15)\n",
    "\n",
    "\"\"\"Os códigos de reajuste de preço de sites não é muito diferente disso, viu? \n",
    "É inviável trocar os preços de cada produto com desconto ou reajuste na mão até porque aumenta a chance de erros, então essa seria a melhor abordagem.\"\"\""
   ]
  },
  {
   "cell_type": "code",
   "execution_count": null,
   "id": "8ef5a24f-1a89-4a23-a63f-b0c773d23fa2",
   "metadata": {},
   "outputs": [],
   "source": [
    "#13\n",
    "\"\"\"Faça um programa que peça um valor monetário e diminua-o em 15%. Seu programa deve imprimir a mensagem “O novo valor é [valor]”.\"\"\"\n",
    "\n",
    "v = float(input('Insira um valor monetário :'))\n",
    "\n",
    "nv = (v -(0.15*v))\n",
    "\n",
    "print('O novo valor é ', nv)\n"
   ]
  },
  {
   "cell_type": "code",
   "execution_count": null,
   "id": "22d45b3b-e721-4d64-822e-7fd16b33c7f5",
   "metadata": {},
   "outputs": [],
   "source": [
    "#Resposta Sugerida\n",
    "\"\"\"Aqui temos o inverso do exercício de reajuste de preço onde o valor sobe 15%. Dessa vez o produto recebe um desconto de 15% mas você concorda que o código é praticamente o mesmo, certo?\n",
    "\"\"\"\n",
    "valor = float(input(\"Qual o valor? \"))\n",
    "print(\"O novo valor é R$\",valor*0.85)\n",
    "\n",
    "\"\"\"Novamente, poderíamos ter calculado esse desconto de diferentes formas mas essa é uma forma simples e direta que qualquer um conseguiria entender apenas ao bater o olho. \n",
    "Dê valor a esse tipo de código!\"\"\""
   ]
  },
  {
   "cell_type": "code",
   "execution_count": 13,
   "id": "59a3ebb3-ab31-4df2-8d86-df40e71e9626",
   "metadata": {},
   "outputs": [
    {
     "name": "stdin",
     "output_type": "stream",
     "text": [
      "Digite a velocidade inicial(m/s) : 10\n",
      "Digite uma posição inicial(m) : 5\n",
      "Digite um instante de tempo(s) : 5\n"
     ]
    },
    {
     "name": "stdout",
     "output_type": "stream",
     "text": [
      "A posição do projétil no instante t = 5.0 é -70.0\n"
     ]
    }
   ],
   "source": [
    "#14\n",
    "\n",
    "\"\"\"Desafio 1 - \n",
    "Peça para o usuário digitar uma velocidade inicial (em m/s), \n",
    "uma posição inicial (em m) e \n",
    "um instante de tempo (em s) e \n",
    "imprima a posição de um projétil nesse instante de tempo.\n",
    "\n",
    "Use a fórmula matemática:\n",
    "\n",
    "y(t) = y(0) + v(0)*t + (g*(t**2)/2)\n",
    "\n",
    "Onde, \n",
    "g é a aceleração da gravidade (-10m/s²), \n",
    "y(t) é a posição final, \n",
    "y(0) é a posição inicial, \n",
    "v(0) é a velocidade inicial e \n",
    "t é o instante de tempo.\"\"\"\n",
    "\n",
    "v0 = float(input('Digite a velocidade inicial(m/s) :'))\n",
    "y0 = float(input('Digite uma posição inicial(m) :'))\n",
    "t = float(input('Digite um instante de tempo(s) :'))\n",
    "g  = -10\n",
    "\n",
    "yt  =  y0 + (v0*t) + (g*(t**2)/2)\n",
    "\n",
    "print('A posição do projétil no instante t =', t, \"é\", yt )"
   ]
  },
  {
   "cell_type": "code",
   "execution_count": 9,
   "id": "0272c2b1-a1ea-4847-8fe0-c018da5baa3c",
   "metadata": {},
   "outputs": [
    {
     "name": "stdin",
     "output_type": "stream",
     "text": [
      "Digite a posição inicial:  5\n",
      "Digite a velocidade inicial:  10\n",
      "Digite um instante no tempo:  5\n"
     ]
    },
    {
     "name": "stdout",
     "output_type": "stream",
     "text": [
      "A posição no instante t = 5.0 é -70.0\n"
     ]
    },
    {
     "data": {
      "text/plain": [
       "'\"Mas por que eu estou fazendo um código pra isso?\" Bom, primeiro para exercitar a programação. \\nMas um fato interessante é que a computação passou por um importante período de desenvolvimento durante a Segunda Guerra Mundial e um dos \\nprimeiros computadores eletromecânicos criados tinha como objetivo justamente realizar cálculos balísticos. \\nO nome dele é ENIAC (Electronic Numerical Integrator and Computer), pesava 30 toneladas e ocupava 180m² além de não ter poder maior que uma calculadora de bolso hoje em dia.'"
      ]
     },
     "execution_count": 9,
     "metadata": {},
     "output_type": "execute_result"
    }
   ],
   "source": [
    "#Resposta Sugerida\n",
    "\n",
    "\"\"\"Você pode estar se perguntando: \"QUÊ?!\" \n",
    "Mas calma, a dificuldade desse exercício não é diferente dos outros de conversão de temperatura ou cálculo da área de um círculo por exemplo. \n",
    "É apenas uma fórmula da Cinemática (parte da Física que estuda o movimento dos corpos) utilizada para calcular a posição de um projétil balístico.\n",
    "Aqui consideramos a velocidade e posição inicial, a aceleração da gravidade e o instante de tempo que se quer analizar. \n",
    "Para isso pedimos 3 dessas 4 informações uma vez que a aceleração da gravidade é uma constante física que aproximamos aqui para -10 m/s².\n",
    "\"\"\"\n",
    "y0 = float(input(\"Digite a posição inicial: \"))\n",
    "v0 = float(input(\"Digite a velocidade inicial: \"))\n",
    "t = float(input(\"Digite um instante no tempo: \"))\n",
    "g = -10\n",
    "\n",
    "y = y0 + v0*t + 0.5*g*t**2\n",
    "\n",
    "print(\"A posição no instante t =\", t, \"é\", y)\n",
    "\n",
    "\"\"\"\"Mas por que eu estou fazendo um código pra isso?\" Bom, primeiro para exercitar a programação. \n",
    "Mas um fato interessante é que a computação passou por um importante período de desenvolvimento durante a Segunda Guerra Mundial e um dos \n",
    "primeiros computadores eletromecânicos criados tinha como objetivo justamente realizar cálculos balísticos. \n",
    "O nome dele é ENIAC (Electronic Numerical Integrator and Computer), pesava 30 toneladas e ocupava 180m² além de não ter poder maior que uma calculadora de bolso hoje em dia.\"\"\""
   ]
  },
  {
   "cell_type": "code",
   "execution_count": null,
   "id": "b669e386-6a0d-46e4-b057-cf53a2b2e49e",
   "metadata": {},
   "outputs": [],
   "source": [
    "\"\"\"Desafio 2 - Faça um programa que informe a data e a hora para o usuário. Para isso use a função datetime.now() do módulo datetime.\"\"\"\n",
    "\n",
    "from datetime import datetime\n",
    "now = datetime.now()\n",
    "print (now)"
   ]
  },
  {
   "cell_type": "code",
   "execution_count": 14,
   "id": "8089a637-5d3e-4203-82b6-ec25cf5df51b",
   "metadata": {},
   "outputs": [
    {
     "name": "stdout",
     "output_type": "stream",
     "text": [
      "14/6/2021 10:38:48\n",
      "14/06/2021 10:38:48\n"
     ]
    },
    {
     "data": {
      "text/plain": [
       "'Aqui apresentamos duas formas de apresentar o resultado certo. \\nA primeira faz uso do print comum com um parâmetro sep de \"separador\" (no original separator) igual a \"\" (string vazia) que retira os espaços \\nentre os parâmetros passados (sim, escondemos esse segredinho de você até agora, perdão).\\n\\nA segunda faz uso da própria função de conversão da biblioteca do formato Datetime (sim, é um formato diferente!) para o formato String que estamos acostumados. \\nEssa abordagem eu acredito ser mais elegante.\\n\\nE acabou!\\n\\n\\nOk, parece que no final dos exercícios decidimos jogar uma bomba de informação, não é mesmo? \\nMas não se preocupe, nós exercitaremos bastante esses conceitos em sala e qualquer dúvida que tiver, pergunte ao seu professor!'"
      ]
     },
     "execution_count": 14,
     "metadata": {},
     "output_type": "execute_result"
    }
   ],
   "source": [
    "#Resposta Sugerida\n",
    "\n",
    "\"\"\"Aqui temos um passo interessante na nossa caminhada: o uso de bibliotecas de funções. Calma que eu explico.\n",
    "Você já está utilizando funções há um bom tempo: print(), input(), int(), flot() e quaisquer outras que o seu professor já te apresentou em aula. \n",
    "Essas funções vem \"de graça\" no Python e nós podemos usá-las sem problema algum.\n",
    "\n",
    "Contudo, existem o que chamamos de \"Bibliotecas de Funções\" que são pacotes de funções que podemos importar para utilizar no nosso código. Algumas também já vem junto com o Python de tão famosas que são mas ainda assim precisamos importar no nosso código, como é o caso da biblioteca Datetime.\n",
    "\n",
    "Essa biblioteca traz uma série de funções relacioandas a data e tempo num geral. Nós usaremos, preste atenção: a função now() do subconjunto datetime da biblioteca datetime.\n",
    "\n",
    "Nem todas as biblitecas possuem sub conjuntos e podemos utilizar a função fazendo algo como \"nomeDaBiblioteca.funcao()\" porém aqui nós precisamos considerar o subconjunto que pra nós ajudar (ironia), tem o mesmo nome da biblioteca. Veja:\n",
    "\"\"\"\n",
    "\n",
    "from datetime import datetime # Incluímos a biblioteca datetime\n",
    "agora = datetime.now() # Chamamos a função now() da biblioteca datetime\n",
    "\n",
    "# Separamos cada pedaço que precisamos\n",
    "ano = agora.year\n",
    "mes = agora.month\n",
    "dia = agora.day\n",
    "hora = agora.hour\n",
    "minuto = agora.minute\n",
    "segundo = agora.second\n",
    "\n",
    "# Imprimimos o resultado \n",
    "# (Obs: o sep=\"\" quer dizer que o print não vai inserir um espaço entre cada uma das saídas)\n",
    "print(dia, \"/\", mes, \"/\", ano, \" \", hora, \":\", minuto, \":\", segundo, sep=\"\")\n",
    "\n",
    "# Outra forma\n",
    "agora = datetime.now()\n",
    "formato = \"%d/%m/%Y %H:%M:%S\" # Definimos um formato \n",
    "agora_formatado = datetime.strftime(agora,formato) # Usamos a função strftime(), que formata automaticamente o texto\n",
    "print(agora_formatado)\n",
    "\n",
    "\"\"\"Aqui apresentamos duas formas de apresentar o resultado certo. \n",
    "A primeira faz uso do print comum com um parâmetro sep de \"separador\" (no original separator) igual a \"\" (string vazia) que retira os espaços \n",
    "entre os parâmetros passados (sim, escondemos esse segredinho de você até agora, perdão).\n",
    "\n",
    "A segunda faz uso da própria função de conversão da biblioteca do formato Datetime (sim, é um formato diferente!) para o formato String que estamos acostumados. \n",
    "Essa abordagem eu acredito ser mais elegante.\n",
    "\n",
    "E acabou!\n",
    "\n",
    "\n",
    "Ok, parece que no final dos exercícios decidimos jogar uma bomba de informação, não é mesmo? \n",
    "Mas não se preocupe, nós exercitaremos bastante esses conceitos em sala e qualquer dúvida que tiver, pergunte ao seu professor!\"\"\""
   ]
  }
 ],
 "metadata": {
  "kernelspec": {
   "display_name": "Python 3",
   "language": "python",
   "name": "python3"
  },
  "language_info": {
   "codemirror_mode": {
    "name": "ipython",
    "version": 3
   },
   "file_extension": ".py",
   "mimetype": "text/x-python",
   "name": "python",
   "nbconvert_exporter": "python",
   "pygments_lexer": "ipython3",
   "version": "3.8.8"
  }
 },
 "nbformat": 4,
 "nbformat_minor": 5
}
