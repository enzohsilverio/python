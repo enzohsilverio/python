{
 "cells": [
  {
   "cell_type": "markdown",
   "id": "fb9db570-1488-475e-9921-5d0c8cf923c1",
   "metadata": {},
   "source": [
    "1) \"\"\"Faça um programa que peça a idade do usuário e imprima se ele é maior ou menor de 18 anos.\"\"\""
   ]
  },
  {
   "cell_type": "code",
   "execution_count": 4,
   "id": "2e17f5ed-5d94-4ce3-8082-7fcfe7313463",
   "metadata": {},
   "outputs": [
    {
     "name": "stdin",
     "output_type": "stream",
     "text": [
      "Qual a sua idade? 77\n"
     ]
    },
    {
     "name": "stdout",
     "output_type": "stream",
     "text": [
      "Você é maior de 18 anos.\n"
     ]
    }
   ],
   "source": [
    "i = int(input('Qual a sua idade?'))\n",
    "\n",
    "if i >= 18:\n",
    "    print('Você é maior de 18 anos.')\n",
    "else :\n",
    "    print('Você é menor de 18 anos.')"
   ]
  },
  {
   "cell_type": "code",
   "execution_count": null,
   "id": "1fa8e8e1-4037-47a3-b2e0-f4b61b42817d",
   "metadata": {},
   "outputs": [],
   "source": [
    "Resposta Sugerida\n",
    "Estruturas condicionais são estruturas que ditam o caminho que o programa irá seguir com base em uma ou mais condições.\n",
    "\n",
    "Nesse caso, vamos começar com um exemplo bem simples que verifica se o usuário é maior ou menor que alguma determinada idade. Aqui, essa idadade será 18 anos.\n",
    "\n",
    "Para isso, recebemos a idade do usuário através de um input e convertemos para o tipo inteiro uma vez que para idade, as casas decimais que seriam a quantidade de meses não importam. Depois, iniciamos nossa estrutura, veja:\n",
    "\n",
    "idade = int(input(\"digite sua idade\"))\n",
    "if idade >= 18:\n",
    "    print(\"maior de idade\")\n",
    "else:\n",
    "    print(\"menor de idade\")\n",
    "A estrutura condicional que temos no Python utiliza basicamente 3 palavrinhas especiais: IF (SE), ELSE (SENÃO) e ELIF (um meio termo entre os dois primeiros), sendo que este último veremos em outra questão. Lendo esse código como ele está escrito e sabendo o que essas palavrinhas significam, podemos entendê-lo facilmente:\n",
    "\n",
    "Após receber a idade como entrada, temos: \"se idade maior ou igual a 18, imprima 'maior de idade'\";\n",
    "E logo após \"senão (ou seja, se a pessoa tem 17 ou menos), imprima 'menor de idade'\".\n",
    "Assim, temos que a variável idade passará por uma comparação com o valor 18 e dependendo do resultado dessa comparação, seguimos por um caminho ou outro.\n",
    "\n",
    "Antes de seguir para a próxima questão, ATENÇÃO: o resultado de uma condição aplicada corretamente no Python é sempre um BOOLEANO, ou seja: True ou False. Lembre-se disso."
   ]
  },
  {
   "cell_type": "markdown",
   "id": "39e93688-5010-4fa1-9b13-cb7b67f7f9f0",
   "metadata": {},
   "source": [
    "2) \"\"\"Faça um programa que peça um número e mostre se ele é positivo ou negativo.\"\"\""
   ]
  },
  {
   "cell_type": "code",
   "execution_count": 30,
   "id": "a96d5b74-c9e1-4b3d-9124-c6bf92bb0bb4",
   "metadata": {},
   "outputs": [
    {
     "name": "stdin",
     "output_type": "stream",
     "text": [
      "Digite um número: 5\n"
     ]
    },
    {
     "name": "stdout",
     "output_type": "stream",
     "text": [
      "\n",
      "Número é Positivo.\n"
     ]
    }
   ],
   "source": [
    "n = float(input('Digite um número:'))\n",
    "\n",
    "if n > 0:\n",
    "    print('\\nNúmero é Positivo.')\n",
    "\n",
    "elif n == 0 :\n",
    "    print('\\nZero é Neutro.')\n",
    "\n",
    "else :\n",
    "    print('\\nNúmero é Negativo.')"
   ]
  },
  {
   "cell_type": "code",
   "execution_count": null,
   "id": "5bbb513b-52b2-4abe-b0b4-c37401d93d31",
   "metadata": {},
   "outputs": [],
   "source": [
    "Resposta Sugerida\n",
    "Seguindo com outro exercício bem simples, aqui temos o primeiro caso em que utilizamos o ELIF, o \"meio-termo\" entre IF e ELSE. Esse condicional é utilizado quando temos mais de duas possibilidades como é o caso.\n",
    "\n",
    "A ideia do exercício é receber um número e verificar se ele é positivo ou negativo. Mas 0 (zero) é um valor neutro pra nesse contexto então devemos tratá-lo também para que nosso programa fique completo.\n",
    "\n",
    "Como temos então 3 possibilidades: números positivos, negativos ou neutros, utilizamos o ELIF. Veja:\n",
    "\n",
    "num = int(input(\"digite um número\"))\n",
    "if num > 0:\n",
    "    print(\"positivo\")\n",
    "elif num == 0:\n",
    "    print(\"nulo\")\n",
    "else:\n",
    "    print(\"negativo\")\n",
    "Perceba que sem o ELIF o 0 seria considerado um número negativo visto que a condição do IF verifica apenas se o número é maior que zero para considerá-lo positivo. Como isso não faz sentido pra nós, colocamos uma condição a mais que verifica se o número é zero antes de deixar o programa seguir para o ELSE e constatar que o número é negativo. Fácil, né?\n",
    "\n",
    "Note também que poderíamos trocar a verificação que fazemos e obter o mesmo resultado:\n",
    "\n",
    "num = int(input(\"digite um número\"))\n",
    "if num < 0:\n",
    "    print(\"negativo\")\n",
    "elif num == 0:\n",
    "    print(\"nulo\")\n",
    "else:\n",
    "    print(\"positivo\")\n",
    "Ou ainda:\n",
    "\n",
    "num = int(input(\"digite um número\"))\n",
    "if num < 0:\n",
    "    print(\"negativo\")\n",
    "elif num > 0:\n",
    "    print(\"nulo\")\n",
    "else:\n",
    "    print(\"nulo\")\n",
    "Viu? Isso é pra provar que não existe apenas uma única solução."
   ]
  },
  {
   "cell_type": "markdown",
   "id": "943e51d0-1c6e-4cab-b2e7-47f06964fcc9",
   "metadata": {},
   "source": [
    "3) \"\"\"Faça um programa que peça dois números e mostre o maior deles.\"\"\""
   ]
  },
  {
   "cell_type": "code",
   "execution_count": 28,
   "id": "6fd9af8e-a10a-4377-9771-7fde55154f7e",
   "metadata": {},
   "outputs": [
    {
     "name": "stdin",
     "output_type": "stream",
     "text": [
      "Digite o primeiro número: 1\n",
      "Digite o segundo número: 1\n"
     ]
    },
    {
     "name": "stdout",
     "output_type": "stream",
     "text": [
      "\n",
      "Números são IGUAIS\n"
     ]
    }
   ],
   "source": [
    "n1 = float(input('Digite o primeiro número:'))\n",
    "n2 = float(input('Digite o segundo número:'))\n",
    "\n",
    "if n1 > n2 :\n",
    "    print('\\nPRIMEIRO número é MAIOR que o SEGUNDO número' )\n",
    "elif n1 == n2 :\n",
    "    print('\\nNúmeros são IGUAIS')\n",
    "else :\n",
    "    print('\\nSEGUNDO número é MAIOR que PRIMEIRO número.')"
   ]
  },
  {
   "cell_type": "code",
   "execution_count": null,
   "id": "439df987-d96f-4407-b5b7-c0f8254af9f1",
   "metadata": {},
   "outputs": [],
   "source": [
    "Até agora, os exercícios cobraram apenas comparações entre uma variável eu um valor estático. Mas é importante saber que podemos comparar duas variáveis também e o processo é exatamente o mesmo.\n",
    "\n",
    "Aqui temos um exemplo onde recebemos dois números do usuário e comparamos para ver qual é maior ou ainda se são iguais. Perceba que aqui também temos 3 resultados possíveis: o primeiro é maior, o segundo é maior ou são iguais. Isso indica que podemos usar um ELIF.\n",
    "\n",
    "Vamos ao código?\n",
    "\n",
    "num1 = int(input(\"digite um número: \"))\n",
    "num2 = int(input(\"digite outro número: \"))\n",
    "if num1 > num2:\n",
    "    print(num1)\n",
    "elif num2 < num1:\n",
    "    print(num2)\n",
    "else:\n",
    "    print(\"os números são iguais\")\n",
    "Fazemos a captação de dados do usuário como aprendemos na primeira aula: input seguido de uma conversão de tipo (aqui você poderia ter usado float também).\n",
    "\n",
    "Depois usamos nossa estrutura condicional iniciando com um IF que verifica se o primeiro número é maior que o segundo e caso isso seja verdade, imprime esse número.\n",
    "\n",
    "Depois testamos o oposto e verificamos se o segundo número é maior.\n",
    "\n",
    "Por fim, se nenhuma dessas condições é atingida, significa que os dois números são iguais e segue o caminho do ELSE."
   ]
  },
  {
   "cell_type": "markdown",
   "id": "69fd9adf-9b87-4f5a-a7e8-bd4b3ee84059",
   "metadata": {},
   "source": [
    "4) \"\"\"Faça um programa que leia a validade das informações:\n",
    "\n",
    "a. Idade: entre 0 e 150;\n",
    "\n",
    "b. Salário: maior que 0;\n",
    "\n",
    "c. Sexo: M, F ou Outro;\n",
    "\n",
    "O programa deve imprimir uma mensagem de erro para cada informação inválida.\"\"\""
   ]
  },
  {
   "cell_type": "code",
   "execution_count": 43,
   "id": "02256a8a-c57c-4195-b322-b4b4d7164598",
   "metadata": {},
   "outputs": [
    {
     "name": "stdin",
     "output_type": "stream",
     "text": [
      "Qual sua idade? 35\n",
      "Qual seu salário? 12500.5\n",
      "Qual o seu sexo? masc\n"
     ]
    },
    {
     "name": "stdout",
     "output_type": "stream",
     "text": [
      "\n",
      "Sua idade é: 35\n",
      "\n",
      "Seu salário é 12500.5 reais.\n",
      "\n",
      "Sexo Masculino.\n"
     ]
    }
   ],
   "source": [
    "i = int(input('\\nQual sua idade?')) \n",
    "sal = float(input('\\nQual seu salário?'))\n",
    "sex = input('\\nQual o seu sexo?')\n",
    "\n",
    "if i>=0 and i<=150:\n",
    "    print('\\nSua idade é:', i)\n",
    "else:\n",
    "    print('\\nIdade inválida, tente novamente!')\n",
    "    \n",
    "if sal>0:\n",
    "    print('\\nSeu salário é', sal, \"reais.\")\n",
    "else:\n",
    "    print('\\nSalário negativo, favor inserir valor positivo.')\n",
    "    \n",
    "if sex == 'M' or sex =='m' or sex =='Masculino' or sex =='masculino' or sex == 'masc' :\n",
    "    print('\\nSexo Masculino.')\n",
    "elif sex == 'F'or sex =='f' or sex =='Feminino' or sex =='feminino' or sex == 'fem':\n",
    "    print('\\nSexo Feminino.')\n",
    "elif sex == 'o' or sex == 'O' or sex == 'Outro' or sex == 'outro':\n",
    "    print('\\nSexo é outro.')\n",
    "else:\n",
    "    print('\\nSexo não encontrado.Entradas aceitáveis são M, F ou Outro')"
   ]
  },
  {
   "cell_type": "code",
   "execution_count": null,
   "id": "06b3494d-7a6d-4457-b9e1-e80873da0456",
   "metadata": {},
   "outputs": [],
   "source": [
    "Resposta Sugerida\n",
    "Vamos exercitar agora com um programa que poderia muito bem ser usado no mundo real para validar as informações de algum formulário de cadastro, por exemplo.\n",
    "\n",
    "Com certeza você já preencheu um formulário online com dados pessoais e sabe que algumas respostas (ou entradas) são inválidas, correto? Seja uma senha fraca, uma data de idade impossível, um CPF inválido... Aqui nós também faremos a validação de algumas informações.\n",
    "\n",
    "A ideia é simples: pedir alguns dados do usuário e se eles não passarem pelas nossas condições, o usuário receberá uma mensagem de erro.\n",
    "\n",
    "#    a.Idade: entre 0 e 150;\n",
    "\n",
    "idade = int(input(\"digite idade: \"))\n",
    "if idade >= 0 and idade <= 150:\n",
    "    print(\"OK\")\n",
    "else:\n",
    "    print(\"erro\")\n",
    "\n",
    "#    b.Salario: maior que 0;\n",
    "\n",
    "salario = float(input(\"digite seu salário: \"))\n",
    "if salario > 0:\n",
    "    print(\"OK\")\n",
    "else:\n",
    "    print(\"erro\")\n",
    "\n",
    "#    c.Sexo: M ou F;\n",
    "sexo = input(\"digite seu sexo (F/M/Outro): \")\n",
    "if sexo == 'F' or sexo == 'M' or sexo == 'Outro':\n",
    "    print(\"OK\")\n",
    "else:\n",
    "    print(\"erro\")\n",
    "Perceba que dessa vez, apesar de termos mais de duas condições, utilizamos apenas IF e ELSE, sem ELIF. Como? Utilizando operadores lógicos como o and e o or. Eles permitem que façamos mais comparaçoes em um só IF. Isso é bom porque economizamos linhas que poderiam deixar o código mais confuso.\n",
    "\n",
    "Se fossemos usar o ELIF para validar a idade, seria assim:\n",
    "\n",
    "#    a.Idade: entre 0 e 150;\n",
    "\n",
    "idade = int(input(\"digite idade: \"))\n",
    "if idade < 0:\n",
    "    print(\"erro\")\n",
    "elif idade > 150:\n",
    "    print(\"erro\")\n",
    "else:\n",
    "    print(\"ok\")\n",
    "Nesse caso, primeiro verificamos se o valor é inválido no IF e no ELIF e só depois de eliminar as possibilidades de erro (menor que 0 ou maior que 150), aí sim vamos para o ELSE que atesta que a informação é válida."
   ]
  },
  {
   "cell_type": "markdown",
   "id": "b786419b-8a0e-48c9-a428-79b913c068b3",
   "metadata": {},
   "source": [
    "5) \"\"\"Escreva um programa que peça a nota de 3 provas de um aluno e verifique se ele passou ou não de ano.\n",
    "\n",
    "Obs.: O aluno irá passar de ano se sua média for maior que 6.\"\"\""
   ]
  },
  {
   "cell_type": "code",
   "execution_count": 50,
   "id": "a375e665-de97-4048-9c7e-80933fa51bc3",
   "metadata": {},
   "outputs": [
    {
     "name": "stdin",
     "output_type": "stream",
     "text": [
      "\n",
      "Digite a nota da primeira prova: 5\n",
      "\n",
      "Digite a nota da primeira prova: 4\n",
      "\n",
      "Digite a nota da primeira prova: 10\n"
     ]
    },
    {
     "name": "stdout",
     "output_type": "stream",
     "text": [
      "\n",
      "Aluno aprovado com média 6.333333333333333 .\n"
     ]
    }
   ],
   "source": [
    "n1 = float(input('\\nDigite a nota da primeira prova:'))\n",
    "n2 = float(input('\\nDigite a nota da primeira prova:'))\n",
    "n3 = float(input('\\nDigite a nota da primeira prova:'))\n",
    "\n",
    "media = (n1 + n2 + n3)/3\n",
    "\n",
    "if media > 6 :\n",
    "    print('\\nAluno aprovado com média', media,\".\")\n",
    "else:\n",
    "    print('\\nAluno reprovado!!Média foi ', media, \".\")"
   ]
  },
  {
   "cell_type": "code",
   "execution_count": null,
   "id": "b36c7e25-59cb-4bf9-acc3-12cb3feabdfc",
   "metadata": {},
   "outputs": [],
   "source": [
    "Resposta Sugerida\n",
    "Aqui temos um exemplo bastante interessante porque ele existe no mundo real: um código que verifica se um aluno passou ou não de ano.\n",
    "\n",
    "As escolas que dispõe de um sistema para armazenamento de notas possuem esse tipo de verificador para otimizar o trabalho dos professores, evitando que eles fiquem calculando as notas dos alunos e permitindo que ele foque no seu trabalho como educador. Essa é a função da programação.\n",
    "\n",
    "Bom, apesar de todo esse falatório o código é muito simples. Verifique se você acertou:\n",
    "\n",
    "nota1 = float(input(\"digite a primeira nota: \"))\n",
    "nota2 = float(input(\"digite a segunda nota: \"))\n",
    "nota3 = float(input(\"digite a terceira nota: \"))\n",
    "\n",
    "media = (nota1 + nota2 + nota3)/3\n",
    "\n",
    "if media >= 6:\n",
    "    print(\"O aluno passou de ano\")\n",
    "else:\n",
    "    print(\"O aluno foi reprovado\")\n",
    "Sem segredos né? Recebemos 3 valores do usuário representando as notas de um determinado aluno e a média, depois de calculada e armazenada em uma variável, passa por uma estrutura condicional que verifica se ela é maior ou igual a 6 para aprovar o aluno, ou menor para reprová-lo.\n",
    "\n",
    "Nesse caso, colocamos as entradas como float porque as notas podem conter partes decimais.\n",
    "\n",
    "Além disso, a condição poderia testar o oposto e verificar no IF se o aluno foi reprovado e somente no ELSE constatar que ele passou. Caso você tenha feito isso, verifique se bate com a nossa solução:\n",
    "\n",
    "if media < 6:\n",
    "    print(\"O aluno foi reprovado\")\n",
    "else:\n",
    "    print(\"O aluno foi aprovado\")\n",
    "Essa é a graça das estruturas condicionais e da programação como um todo. Podemos obter o mesmo resultado de diferentes formas. Não se esqueça disso."
   ]
  },
  {
   "cell_type": "markdown",
   "id": "9d6fa5c6-2574-4230-821f-a99080eb7e18",
   "metadata": {},
   "source": [
    "6) \"\"\"Faça um programa que mostre uma questão de múltipla escolha com 5 opções (letras a, b, c, d, e). Sabendo a resposta certa, o programa deve receber a opção do usuário e informar a letra que o usuário marcou e se a resposta está certa ou errada.\"\"\""
   ]
  },
  {
   "cell_type": "code",
   "execution_count": 203,
   "id": "eac6314a-addb-47ed-9668-e008b007e5d6",
   "metadata": {},
   "outputs": [
    {
     "name": "stdin",
     "output_type": "stream",
     "text": [
      "\n",
      "Digite a alternativa correta: c\n"
     ]
    },
    {
     "name": "stdout",
     "output_type": "stream",
     "text": [
      "\n",
      "CERTA resposta!! Alternativa c\n"
     ]
    }
   ],
   "source": [
    "res = input('\\nDigite a alternativa correta:')\n",
    "\n",
    "ok = 'c'\n",
    "\n",
    "\n",
    "if res == ok :\n",
    "    print('\\nCERTA resposta!! Alternativa',ok)\n",
    "elif res == 'a' :\n",
    "    print('\\nErrada!!Alternativa','a')\n",
    "elif res == 'b' :\n",
    "    print('\\nErrada!!Alternativa','b')\n",
    "elif res == 'd' :\n",
    "    print('\\nErrada!!Alternativa','d')\n",
    "elif res == 'e' :\n",
    "    print('\\nErrada!!Alternativa','e')\n",
    "else:\n",
    "    print('\\nAlternativa não encontrada!!Alternativas são a;b;c;d;e')"
   ]
  },
  {
   "cell_type": "code",
   "execution_count": null,
   "id": "77fa6efa-a16d-4db1-8e76-ab5b0198c09d",
   "metadata": {},
   "outputs": [],
   "source": [
    "Resposta Sugerida\n",
    "Você com certeza já realizou testes online ou passou por algum formulário que pedia que você marcasse a resposta certa. Aqui a ideia é entender o que existe por trás disso tudo. Spoiler: condicionais.\n",
    "\n",
    "Faz sentido, né? Com condicionais, podemos verificar se a resposta é certa e seguir por um caminho, ou pedir para que o usuário tente novamente.\n",
    "\n",
    "Vamos lá, primeiro vamos usar uma série de funções print apenas para simular uma questão de multipla escolha e depois pedimos que o usuário responda através de uma função input.\n",
    "\n",
    "Depois disso, basta verificar se a resposta do usuário é igual à alternativa correta, nesse caso a letra C, através de um IF. Caso a resposta não seja igual à letra C, o ELSE deve se encarregar de informar que o usuário errou.\n",
    "\n",
    "print(\"Qual o valor de 5 x 5 ?\")\n",
    "print(\"a. 20\")\n",
    "print(\"b. 21\")\n",
    "print(\"c. 25\")\n",
    "print(\"d. 23\")\n",
    "print(\"e. 24\")\n",
    "\n",
    "alternativa = input(\"Informe a alternativa correta: \")\n",
    "if alternativa == 'c' or alternativa == 'C':\n",
    "    print(\"Resposta Correta!\")\n",
    "else:\n",
    "    print(\"Resposta incorreta\")\n",
    "Perceba que o usuário pode colocar tanto \"c\" minúsculo quanto \"C\" maiúsculo. Para contemplar ambos, no mesmo IF colocamos as duas possibilidades com auxílio do operador lógico OR (\"ou\" em inglês).\n",
    "\n",
    "Caso você não tenha implementado isso e queira fazer o mesmo com IF, ELIF e ELSE, o trecho ficaria assim:\n",
    "\n",
    "if alternativa == 'c':\n",
    "    print(\"Resposta Correta!\")\n",
    "elif alternativa == 'C':\n",
    "    print(\"Resposta Correta!\")\n",
    "else:\n",
    "    print(\"Resposta incorreta\")\n",
    "Note que primeiro verificamos se a resposta é igual a \"c\" minúsculo e depois verificamos se é igual a \"C\" maiúsculo, mas você poderia inverter a ordem. Só depois de eliminar todas as possibilidades de resposta correta, nosso ELSE informa que o usuário errou."
   ]
  },
  {
   "cell_type": "markdown",
   "id": "93430981-38db-48d1-9a99-c45a77e89c1c",
   "metadata": {},
   "source": [
    "7) Vamos fazer um programa para verificar quem é o assassino de um crime. Para descobrir o assassino, a polícia faz um pequeno questionário com 5 perguntas onde a resposta só pode ser sim ou não:\n",
    "\n",
    "a. Mora perto da vítima?\n",
    "\n",
    "b. Já trabalhou com a vítima?\n",
    "\n",
    "c. Telefonou para a vítima?\n",
    "\n",
    "d. Esteve no local do crime?\n",
    "\n",
    "e. Devia para a vítima?\n",
    "\n",
    "Cada resposta sim dá um ponto para o suspeito. A polícia considera que os suspeitos com 5 pontos são os assassinos, com 4 a 3 pontos são cúmplices e 2 pontos são apenas suspeitos, necessitando outras investigações. Valores iguais ou abaixo de 1 são liberados."
   ]
  },
  {
   "cell_type": "code",
   "execution_count": 219,
   "id": "1cb369f8-6c68-48db-9770-59deaae194fc",
   "metadata": {},
   "outputs": [
    {
     "name": "stdin",
     "output_type": "stream",
     "text": [
      "Telefonou para a vítima?\n",
      " Sim\n",
      "Esteve no local do crime?\n",
      " Sim\n",
      "Mora perto da vítima??\n",
      " Sim\n",
      "Devia para a vítima?\n",
      " Sim\n",
      "Já trabalhou com a vítima?\n",
      " Sim\n"
     ]
    },
    {
     "name": "stdout",
     "output_type": "stream",
     "text": [
      "Assassino\n"
     ]
    }
   ],
   "source": [
    "classificacao = [\"Suspeita\",\"Cúmplice\",\"Assassino\",\"Inocente\"]\n",
    "\n",
    "perguntas = ['Telefonou para a vítima?','Esteve no local do crime?','Mora perto da vítima??','Devia para a vítima?','Já trabalhou com a vítima?']\n",
    "\n",
    "count = 0\n",
    "\n",
    "respostas = False\n",
    "for i in range(len(perguntas)):\n",
    "    respostas = input('{}\\n'.format(perguntas[i]))\n",
    "    if(respostas =='Sim'):\n",
    "        count+=1\n",
    "        \n",
    "        \n",
    "if(count == 2):\n",
    "    print(classificacao[0])\n",
    "elif(count == 3 or count == 4):\n",
    "    print(classificacao[1])\n",
    "elif (count == 5):\n",
    "    print(classificacao[2])\n",
    "else:\n",
    "    print(classificacao[3])"
   ]
  },
  {
   "cell_type": "code",
   "execution_count": null,
   "id": "95ec706b-5c2c-44bd-a8bc-f6fbb4bf3846",
   "metadata": {},
   "outputs": [],
   "source": [
    "Resposta Sugerida\n",
    "Aqui nós aumentamos um pouquinho a dificuldade, né? Pois é, temos que construir um programa que consiga analisar os dados de uma série de pessoas que poderiam estar ligadas a um assassinado para indicar possíveis culpados e cúmplices.\n",
    "\n",
    "Para isso, vamos fazer uma série de perguntas para os investigados e caso a resposta seja \"Sim\", contabilizamos em uma variável chamada pontos. Ao final, vemos quantos pontos a pessoa obteve e damos o resultado com base nos valores do enunciado.\n",
    "\n",
    "Você deve ter percebido que para completar essa tarefa, precisamos realizar comparações em dois momentos:\n",
    "\n",
    "No momento de verificar se uma resposta é \"Sim\" ou não.\n",
    "Verificar a quantidade de pontos e dar a resposta adequada.\n",
    "Vamos ao código?\n",
    "\n",
    "print(\"Informe Sim ou Não para as perguntas abaixo:\")\n",
    "resp_a = input(\"Mora perto da vítima? \")\n",
    "resp_b = input(\"Já trabalhou com a vítima? \")\n",
    "resp_c = input(\"Telefonou para a vítima? \")\n",
    "resp_d = input(\"Esteve no local do crime? \")\n",
    "resp_e = input(\"Devia para a vítima? \")\n",
    "\n",
    "pontos = 0\n",
    "\n",
    "if resp_a == \"Sim\":\n",
    "    pontos = pontos + 1\n",
    "if resp_b == \"Sim\":\n",
    "    pontos = pontos + 1\n",
    "if resp_c == \"Sim\":\n",
    "    pontos = pontos + 1\n",
    "if resp_d == \"Sim\":\n",
    "    pontos = pontos + 1\n",
    "if resp_e == \"Sim\":\n",
    "    pontos = pontos + 1\n",
    "\n",
    "if pontos == 5:\n",
    "    print(\"A pessoa em questão é a assassina\")\n",
    "elif 3 <= pontos <= 4:\n",
    "    print(\"A pessoa é cúmplice\")\n",
    "elif pontos == 2:\n",
    "    print(\"A pessoa é suspeita\")\n",
    "else:\n",
    "    print(\"A pessoa está liberada\")\n",
    "Aqui, temos algumas coisas para discutir:\n",
    "\n",
    "Note que comparamos apenas com a palavra \"Sim\", as a pessoa poderia responder com \"S\", \"s\", \"SIM\", \"sim\", etc... E todas deveriam significar a mesma coisa. \n",
    "Aqui, porém, essas respostas não serão contabilizadas com um \"Sim\". Como exercício, tente implementar essas verificações.\n",
    "Perceba que só precisamos verificar se a pessoa respondeu de maneira afirmativa (seja \"Sim\", \"sim\", \"s\" ou o que você escolheu). \n",
    "Não precisamos contar as negações porque o efeito seria o mesmo. No final, o segundo bloco de IF, ELIF e ELSE observa apenas os \"Sim\". Isso economiza variáveis e linhas de código.\n",
    "Como precisamos acumular pontos, podemos usar a mesma variável de contagem para todas as perguntas apenas incrementando a cada \"Sim\" encontrado. \n",
    "Vemos que os alunos acabam criando uma variável pra cada pergunta e depois somar tudo, mas assim gasta-se mais variáveis e espaço na memória consequentemente."
   ]
  },
  {
   "cell_type": "code",
   "execution_count": 273,
   "id": "a1e7a2d6-5187-4fc2-91da-2cc00600963d",
   "metadata": {},
   "outputs": [
    {
     "name": "stdout",
     "output_type": "stream",
     "text": [
      "Informe Sim ou Não para as perguntas abaixo:\n"
     ]
    },
    {
     "name": "stdin",
     "output_type": "stream",
     "text": [
      "Mora perto da vítima?  s\n",
      "Já trabalhou com a vítima?  s\n",
      "Telefonou para a vítima?  s\n",
      "Esteve no local do crime?  s\n",
      "Devia para a vítima?  s\n"
     ]
    },
    {
     "name": "stdout",
     "output_type": "stream",
     "text": [
      "A pessoa em questão é a assassina\n"
     ]
    }
   ],
   "source": [
    "print(\"Informe Sim ou Não para as perguntas abaixo:\")\n",
    "resp_a = input(\"Mora perto da vítima? \")\n",
    "resp_b = input(\"Já trabalhou com a vítima? \")\n",
    "resp_c = input(\"Telefonou para a vítima? \")\n",
    "resp_d = input(\"Esteve no local do crime? \")\n",
    "resp_e = input(\"Devia para a vítima? \")\n",
    "\n",
    "pontos = 0\n",
    "\n",
    "if resp_a == \"Sim\" or resp_a == \"s\" or resp_a == \"S\" or resp_a =='sim':\n",
    "    pontos = pontos + 1\n",
    "if resp_b == \"Sim\" or resp_a == \"s\" or resp_a == \"S\" or resp_a =='sim':\n",
    "    pontos = pontos + 1\n",
    "if resp_c == \"Sim\" or resp_a == \"s\" or resp_a == \"S\" or resp_a =='sim':\n",
    "    pontos = pontos + 1\n",
    "if resp_d == \"Sim\" or resp_a == \"s\" or resp_a == \"S\" or resp_a =='sim':\n",
    "    pontos = pontos + 1\n",
    "if resp_e == \"Sim\" or resp_a == \"s\" or resp_a == \"S\" or resp_a =='sim':\n",
    "    pontos = pontos + 1\n",
    "\n",
    "if pontos == 5:\n",
    "    print(\"A pessoa em questão é a assassina\")\n",
    "elif 3 <= pontos <= 4:\n",
    "    print(\"A pessoa é cúmplice\")\n",
    "elif pontos == 2:\n",
    "    print(\"A pessoa é suspeita\")\n",
    "else:\n",
    "    print(\"A pessoa está liberada\")"
   ]
  },
  {
   "cell_type": "raw",
   "id": "455e1475-1fe8-4cd5-bd65-7b96779b2989",
   "metadata": {},
   "source": [
    "    8. Um produto vai sofrer aumento de acordo com a Tabela 1 abaixo. Faça um programa que peça para o usuário digitar o valor do produto de acordo com o preço antigo e escreva uma das mensagens da Tabela 2, de acordo com o preço reajustado:\n",
    "\n",
    "Tabela 1\n",
    "\n",
    "Preço Antigo\t% de aumento\n",
    "Até 50 reais\t5%\n",
    "Entre 50 e 100 reais\t10%\n",
    "De 100 a 150 reais\t13%\n",
    "Acima de 150 reais\t15%\n",
    "Tabela 2\n",
    "\n",
    "Preço Novo\tMensagem\n",
    "Até 80 reais\tBarato\n",
    "Entre 80 e 115 reais\tRazoável\n",
    "Entre 115 e 150 reais\tNormal\n",
    "Entre 150 e 170 reais\tCaro\n",
    "Acima de 170 reais\tMuito Caro\n"
   ]
  },
  {
   "cell_type": "code",
   "execution_count": 283,
   "id": "0c6fd719-4736-460a-942e-7974f425f707",
   "metadata": {},
   "outputs": [
    {
     "name": "stdin",
     "output_type": "stream",
     "text": [
      "Digite o valor do produto: 150\n"
     ]
    },
    {
     "name": "stdout",
     "output_type": "stream",
     "text": [
      "Valor de acordo com o preço reajustado é: 169.5\n",
      "Muito Caro\n"
     ]
    }
   ],
   "source": [
    "va = int(input('Digite o valor do produto:'))\n",
    "\n",
    "nv = [(va+(va*5/100)),(va+(va*10/100)),(va+(va*13/100)),(va+(va*15/100)),(va+(va*15/100))]\n",
    "\n",
    "#calculando novo valor:\n",
    "\n",
    "if va <= 50:\n",
    "    print('Valor de acordo com o preço reajustado é:', nv[0])\n",
    "elif va > 50 and va <= 100:\n",
    "    print('Valor de acordo com o preço reajustado é:', nv[1])\n",
    "elif va > 100 and va <= 150:\n",
    "    print('Valor de acordo com o preço reajustado é:', nv[2])\n",
    "elif va > 150:\n",
    "    print('Valor de acordo com o preço reajustado é:', nv[3])\n",
    "else:\n",
    "    print('Valor de acordo com o preço reajustado é:', nv[4])\n",
    "\n",
    "\n",
    "#mensagem do preço reajustado:\n",
    "\n",
    "if nv[0] <= 80 :\n",
    "    print('Barato')\n",
    "                                                      \n",
    "elif nv[1] > 80 and nv[1] <= 115 :\n",
    "    print('Razoável')\n",
    "                                                      \n",
    "elif nv[2] > 115 and nv[2] <= 150 :\n",
    "    print('Normal')\n",
    "                                                      \n",
    "elif nv[3] > 150 and nv[3] <= 169 :\n",
    "    print('Caro')\n",
    "else : \n",
    "    print('Muito Caro')\n",
    "    \n",
    "#ALGUNS ERROS , VER RESOLUÇÃO"
   ]
  },
  {
   "cell_type": "code",
   "execution_count": null,
   "id": "2fe8fcae-b6f8-46cf-bdf3-79076050f58a",
   "metadata": {},
   "outputs": [],
   "source": [
    "Resposta Sugerida\n",
    "Mais um caso um pouquinho mais complexo. Dessa vez temos um programa que calcula o reajuste de preço de um determinado produto de acordo com faixas de preço pré-definidas e depois verificamos se, de acordo com as nossas preferências, o produto ficou muito caro, barato, razoável, etc.\n",
    "\n",
    "Novamente precisaremos de dois grandes blocos condicionais, um para calcular o reajuste e um para verificar o peso desse reajuste.\n",
    "\n",
    "Então vamos lá. Nosso primeiro grande bloco encontra a faixa de preço em que o produto se encontra através de várias comparações entre valores e depois calcula o reajuste de 5%, 10%, 13% ou 15% com base nisso.\n",
    "\n",
    "Depois, com esse novo preço, passamos por um novo bloco que compara os valores após reajuste com alguns numeros pré-determinados e dizemos qual foi o peso do reajuste.\n",
    "\n",
    "preco = float(input(\"Digite o preço antigo do produto: \"))\n",
    "\n",
    "if preco < 50:\n",
    "    preco_atual = preco * 1.05\n",
    "elif 50 <= preco < 100:\n",
    "    preco_atual = preco * 1.1\n",
    "elif 100 <= preco < 150:\n",
    "    preco_atual = preco * 1.13\n",
    "else:\n",
    "    preco_atual = preco * 1.15\n",
    "\n",
    "if preco_atual <= 80:\n",
    "    print(\"Barato\")\n",
    "elif preco_atual <= 115:\n",
    "    print(\"Razoável\")\n",
    "elif preco_atual <= 150:\n",
    "    print(\"Normal\")\n",
    "elif preco_atual <= 170:\n",
    "    print(\"Caro\")\n",
    "else:\n",
    "    print(\"Muito caro\")\n",
    "Perceba que não é muito diferente do exercício de investigação, não é? Nesse caso, em vez de incrementar um contador através de somas, fazemos algo semelhante mas com multiplicações.\n",
    "\n",
    "Depois, imprimos o resultado dessa mudança como fizemos no exercício da investigação ao dizer se a pessoa era culpada, cúmplice, inocente... Tranquilo, né?"
   ]
  },
  {
   "cell_type": "code",
   "execution_count": 276,
   "id": "57a3672d-c5f6-4179-8672-ccc32acdd487",
   "metadata": {},
   "outputs": [
    {
     "name": "stdin",
     "output_type": "stream",
     "text": [
      "Digite o preço antigo do produto:  150\n"
     ]
    },
    {
     "name": "stdout",
     "output_type": "stream",
     "text": [
      "Muito caro\n"
     ]
    }
   ],
   "source": [
    "#RESPOSTA SUGERIDA (SOMENTE FORMULA)\n",
    "preco = float(input(\"Digite o preço antigo do produto: \"))\n",
    "\n",
    "if preco < 50:\n",
    "    preco_atual = preco * 1.05\n",
    "elif 50 <= preco < 100:\n",
    "    preco_atual = preco * 1.1\n",
    "elif 100 <= preco < 150:\n",
    "    preco_atual = preco * 1.13\n",
    "else:\n",
    "    preco_atual = preco * 1.15\n",
    "\n",
    "if preco_atual <= 80:\n",
    "    print(\"Barato\")\n",
    "elif preco_atual <= 115:\n",
    "    print(\"Razoável\")\n",
    "elif preco_atual <= 150:\n",
    "    print(\"Normal\")\n",
    "elif preco_atual <= 170:\n",
    "    print(\"Caro\")\n",
    "else:\n",
    "    print(\"Muito caro\")"
   ]
  },
  {
   "cell_type": "code",
   "execution_count": 282,
   "id": "09159076-8d43-4d70-9bc6-118c5d42791a",
   "metadata": {},
   "outputs": [
    {
     "name": "stdin",
     "output_type": "stream",
     "text": [
      "Digite o valor do produto: 150\n"
     ]
    },
    {
     "name": "stdout",
     "output_type": "stream",
     "text": [
      "Valor de acordo com o preço reajustado é: 172.5\n",
      "Muito Caro\n"
     ]
    }
   ],
   "source": [
    "#COM A CORREÇÃO DOS SINAIS NO IF DO CALCULANDO VALOR\n",
    "\n",
    "va = int(input('Digite o valor do produto:'))\n",
    "\n",
    "nv = [(va+(va*5/100)),(va+(va*10/100)),(va+(va*13/100)),(va+(va*15/100))]\n",
    "\n",
    "#calculando novo valor:\n",
    "\n",
    "if va < 50:\n",
    "    print('Valor de acordo com o preço reajustado é:', nv[0])\n",
    "elif va >= 50 and va < 100:\n",
    "    print('Valor de acordo com o preço reajustado é:', nv[1])\n",
    "elif va >= 100 and va < 150:\n",
    "    print('Valor de acordo com o preço reajustado é:', nv[2])\n",
    "else:\n",
    "    print('Valor de acordo com o preço reajustado é:', nv[3])\n",
    "\n",
    "\n",
    "#mensagem do preço reajustado:\n",
    "\n",
    "if nv[0] <= 80 :\n",
    "    print('Barato')\n",
    "                                                      \n",
    "elif nv[1] <= 115 :\n",
    "    print('Razoável')\n",
    "                                                      \n",
    "elif nv[2] <= 150 :\n",
    "    print('Normal')\n",
    "                                                      \n",
    "elif nv[3] <= 170 :\n",
    "    print('Caro')\n",
    "else : \n",
    "    print('Muito Caro')\n",
    "    \n"
   ]
  },
  {
   "cell_type": "markdown",
   "id": "9c697858-f66f-4739-b885-bc58210cf241",
   "metadata": {},
   "source": [
    "9) Desafio 1 - Faça um programa que leia 3 números e informe o maior deles."
   ]
  },
  {
   "cell_type": "code",
   "execution_count": 284,
   "id": "a8d8131e-3452-4de1-8a57-44b293dd3e7a",
   "metadata": {},
   "outputs": [
    {
     "name": "stdin",
     "output_type": "stream",
     "text": [
      "\n",
      "Digite o 1o numero: 5\n",
      "\n",
      "Digite o 2o numero: 4\n",
      "\n",
      "Digite o 3o numero: 3\n"
     ]
    },
    {
     "name": "stdout",
     "output_type": "stream",
     "text": [
      "\n",
      "1o numero maior dos 3.\n"
     ]
    }
   ],
   "source": [
    "n1 = input('\\nDigite o 1o numero:')\n",
    "n2 = input('\\nDigite o 2o numero:')\n",
    "n3 = input('\\nDigite o 3o numero:')\n",
    "\n",
    "if  n2 < n1 > n3 :#n1>n2 and n1>n3:#\n",
    "    print('\\n1o numero maior dos 3.')\n",
    "elif n2>n1 and n2>n3: n1<>\n",
    "    print('\\n2o numero maior dos 3.')\n",
    "else :\n",
    "    print('\\n3o numero maior dos 3.')"
   ]
  },
  {
   "cell_type": "code",
   "execution_count": null,
   "id": "2a81d05c-e065-4c3c-a8ab-50415e0675b5",
   "metadata": {},
   "outputs": [],
   "source": [
    "#Resposta Sugerida\n",
    "Nós já fizemos um programa que verificava qual era o maior entre dois números. Agora só precisamos fazer com três. Simples, né?\n",
    "\n",
    "Qual é o desafio aqui então?\n",
    "\n",
    "Bom, é possível que você tenha resolvido de maneira simples e obtido os resultados corretos. Contudo, vamos utilizar aqui um método que funciona bem para 3 valores que servirá para exercitar uma abordagem diferente.\n",
    "\n",
    "Nesse caso, pensamos em encadear condicionais para verificar os 3 números seguindo alguma ordem como: primeiro verifico o primeiro com o segundo, depois o maior deles com o terceiro. Entre as possíveis combinações, seguiremos com essa. Veja:\n",
    "\n",
    "numero1 = int(input(\"Digite o primeiro número: \"))\n",
    "numero2 = int(input(\"Digite o segundo número: \"))\n",
    "numero3 = int(input(\"Digite o terceiro número: \"))\n",
    "if numero1 > numero2:\n",
    "    if numero1 > numero3:\n",
    "        print(numero1)\n",
    "    else:\n",
    "        print(numero3)\n",
    "else:\n",
    "    if numero2 > numero3:\n",
    "        print(numero2)\n",
    "    else:\n",
    "        print(numero3)\n",
    "Olha que interessante. Primeiro precisamos verificar, entre dois valores, qual é o maior. Depois pegamos o maior deles e comparamos com o terceiro. Assim saberemos qual é o maior de todos.\n",
    "\n",
    "Para isso nós utilizamos um IF para verificar se o numero1 era maior que o numero2. Se for, ele entraria num IF dentro do primeiro que verificaria se ele era maior que o numero3. Caso fosse, seria o maior dos 3. Caso contrário, o numero3 seria o maior.\n",
    "\n",
    "Caso caíssemos no ELSE do primeiro IF, o numero2 seria maior que o numero1 e nós realizamos o mesmo processo no IF dentro do ELSE agora, e descobririamos se o maior de todos é o numero2 ou o numero3.\n",
    "\n",
    "Fez sentido? Espero que sim!"
   ]
  },
  {
   "cell_type": "markdown",
   "id": "567400b5-00ba-4ba2-88d8-7fbd682f45c0",
   "metadata": {},
   "source": [
    "10) Desafio 2 - Faça o mesmo programa do exercício anterior, porém com 4 números."
   ]
  },
  {
   "cell_type": "code",
   "execution_count": 263,
   "id": "cf637ac1-8cce-4863-b687-db298c8925e7",
   "metadata": {},
   "outputs": [
    {
     "name": "stdin",
     "output_type": "stream",
     "text": [
      "\n",
      "Digite o 1o numero: 1\n",
      "\n",
      "Digite o 2o numero: 2\n",
      "\n",
      "Digite o 3o numero: 5\n",
      "\n",
      "Digite o 4o numero: 3\n"
     ]
    },
    {
     "name": "stdout",
     "output_type": "stream",
     "text": [
      "\n",
      "3o numero maior dos 4.\n"
     ]
    }
   ],
   "source": [
    "n1 = input('\\nDigite o 1o numero:')\n",
    "n2 = input('\\nDigite o 2o numero:')\n",
    "n3 = input('\\nDigite o 3o numero:')\n",
    "n4 = input('\\nDigite o 4o numero:')\n",
    "\n",
    "if n1>n2 and n1>n3 and n1>n4:\n",
    "    print('\\n1o numero maior dos 4.')\n",
    "elif n2>n1 and n2>n3 and n2>n4:\n",
    "    print('\\n2o numero maior dos 4.')\n",
    "elif n3>n1 and n3>n2 and n3>n4:\n",
    "    print('\\n3o numero maior dos 4.')\n",
    "else :\n",
    "    print('\\n4o numero maior dos 4.')"
   ]
  },
  {
   "cell_type": "code",
   "execution_count": null,
   "id": "62b4e3fd-a2d8-45d3-8c26-92cece86cc94",
   "metadata": {},
   "outputs": [],
   "source": [
    "#Resposta Sugerida\n",
    "Eita, e agora? Dá pra utilizar o mesmo método que realizamos para comparar 3 valores? Sim, mas fica bem mais confuso. Aqui podemos usar uma abordagem bem mais simples e, na verdade, mais elegante.\n",
    "\n",
    "Vamos começar assumindo ao acaso qual é o maior número colocado. Aqui, escolhemos o primeiro. Ou seja, logo após as entradas do usuário, guardamos a primeira na variável maior_numero.\n",
    "\n",
    "Depois, uma a uma, verificamos se as outras são maiores que o valor guardado na variável. Se for, trocamos. Assim, a cada comparação sempre temos armazenado o maior valor entre todos já verificado com certeza.\n",
    "\n",
    "Ao final, temos o maior valor na variável maior_numero.\n",
    "\n",
    "'''Pelo desafio anterior, podemos perceber que essa estrutura é insustentável para muitos números.\n",
    "Podemos fazer o exercício de uma forma diferente.\n",
    "'''\n",
    "\n",
    "numero1 = int(input(\"Digite um número: \"))\n",
    "numero2 = int(input(\"Digite outro número: \"))\n",
    "numero3 = int(input(\"Digite outro número: \"))\n",
    "numero4 = int(input(\"Digite outro número: \"))\n",
    "\n",
    "maior_numero = numero1\n",
    "if numero2 > maior_numero:\n",
    "    maior_numero = numero2\n",
    "if numero3 > maior_numero:\n",
    "    maior_numero = numero3\n",
    "if numero4 > maior_numero:\n",
    "    maior_numero = numero4\n",
    "\n",
    "print(\"O maior número é\", maior_numero)\n",
    "Apesar de parecer estranho, não é algo incomum. Em cálculos probabilísticos e/ou estatísticos, geralmente assumimos hipoteses verdadeiras no início dos cálculos para depois de uma série de experimentações, chegar a um resultado mais correto."
   ]
  },
  {
   "cell_type": "raw",
   "id": "60115476-f33d-4774-a620-a79e4ae8b901",
   "metadata": {},
   "source": [
    " 11.Desafio 3 - Um hospital quer fazer o diagnóstico de gripe ou dengue a partir de um questionário de sintomas, tendo as perguntas abaixo, faça um programa que faça o diagnóstico deste hospital:\n",
    "\n",
    "a. Sente dor no corpo?\n",
    "\n",
    "b. Você tem febre?\n",
    "\n",
    "c. Você tem tosse?\n",
    "\n",
    "d. Está com congestão nasal?\n",
    "\n",
    "e. Tem manchas pelo corpo?\n",
    "\n",
    "Para o diagnóstico ele tem a seguinte tabela:\n",
    "\n",
    "A\tB\tC\tD\tE\tResultado\n",
    "Sim\tSim\tNão\tNão\tSim\tDengue\n",
    "Sim\tSim\tSim\tSim\tNão\tGripe\n",
    "Não\tSim\tSim\tSim\tNão\tGripe\n",
    "Sim\tNão\tNão\tNão\tNão\tSem doenças\n",
    "Não\tNão\tNão\tNão\tNão\tSem doenças\n"
   ]
  },
  {
   "cell_type": "code",
   "execution_count": 287,
   "id": "f14b00ce-ca34-4c67-9c00-660d227f3e43",
   "metadata": {},
   "outputs": [
    {
     "name": "stdin",
     "output_type": "stream",
     "text": [
      "Sente dor no corpo? \n",
      "Você tem febre? \n",
      "Você tem tosse? \n",
      "Está com congestão nasal? \n",
      "Tem manchas pelo corpo? \n"
     ]
    },
    {
     "name": "stdout",
     "output_type": "stream",
     "text": [
      "Você está com  zero doenças.\n"
     ]
    }
   ],
   "source": [
    "a = input('Sente dor no corpo?') \n",
    "b = input('Você tem febre?') \n",
    "c = input('Você tem tosse?') \n",
    "d = input('Está com congestão nasal?') \n",
    "e = input('Tem manchas pelo corpo?')\n",
    "\n",
    "diag = ['dengue.','gripe.','zero doenças.','Procure um especialista urgente!!']\n",
    "\n",
    "if a == 'Sim' and b == 'Sim' and c=='Não' and d == 'Não' and e == \"Sim\":\n",
    "    print('Você está com ', diag[0]) \n",
    "elif a == 'Sim' and b == 'Sim' and c =='Sim'and d == \"Sim\" and e == \"Não\":\n",
    "    print('Você está com ', diag[1]) \n",
    "elif a =='Não' and b == 'Sim' and c == 'Sim' and d == \"Sim\" and e =='Não':\n",
    "    print('Você está com ', diag[1])\n",
    "elif a == \"Sim\" and b == 'Não' and c == 'Não' and d == \"Não\" and e =='Não':\n",
    "    print('Você está com ', diag[2]) \n",
    "elif a == 'Sim' and b == 'Sim' and c =='Sim'and d == \"Sim\" and e == \"Sim\":\n",
    "    print(diag[3]) \n",
    "else : print('Você está com ', diag[2])"
   ]
  },
  {
   "cell_type": "code",
   "execution_count": null,
   "id": "81b1acac-894b-4725-a3f7-f94b91e6c0df",
   "metadata": {},
   "outputs": [],
   "source": [
    "Lembra do exercício de investigação? Pois é, agora temos mais um. Aqui, porém, é um pouco diferente. \n",
    "Nós recebemos respostas de \"Sim\" ou \"Não\" para várias perguntas relacioandas a sintomas de saúde e ao final, passamos um diagnóstico.\n",
    "Aqui, nós verificamos combinações de ambos \"Sim\" e \"Não\" a fim de chegar no diagnóstico correto. \n",
    "Dessa vez, não podemos usar uma só variável para contabilizar porque as respostas significam coisas diferentes e a ordem das perguntas influenciam no resultado final.\n",
    "\n",
    "Para fazer isso nós podemos, por exemplo, fazer IFs e ELIFs com várias condições unidas por operadores lógicos a fim de identificar a enfermidade.\n",
    "\n",
    "A = input(\"Sente dor no corpo? \")\n",
    "B = input(\"Você tem febre? \")\n",
    "C = input(\"Você tem tosse? \")\n",
    "D = input(\"Está com congestão nasal? \")\n",
    "E = input(\"Tem manchas pelo corpo? \")\n",
    "\n",
    "# Uma das formas de resolver o problema:\n",
    "if B == 'Não' and C == 'Não' and D == 'Não' and E == 'Não':\n",
    "    print(\"Sem doenças\")\n",
    "elif B == 'Sim' and C == 'Sim' and D == 'Sim' and E == 'Não':\n",
    "    print(\"Gripe\")\n",
    "elif A == 'Sim' and B == 'Sim' and C == 'Não' and D == 'Não' and E == 'Sim':\n",
    "    print(\"Dengue\")\n",
    "else:\n",
    "    print(\"Sem diagnóstico possível\")\n",
    "Assim, cada linha de IF ou ELIF busca identificar uma das possibilidades (\"Sem doenças\", \"Gripe\" ou \"Dengue\") e o ELSE, se ocorrer, informa que não foi possível chegar a um diagnóstico exato.\n",
    "\n",
    "Apesar de parecer um sistema bastante precário, em um nível mais elevado poderíamos usar uam abordagem parecida para prever diagnósticos com auxílio da Inteligência Artificial e do Aprendizado de Máquinas. \n",
    "Utilizando vários dados do paciente e comparando com modelos preditivos realizados com auxílio de um enorme banco de dados de diagnósticos e sintomas, poderíamos obter resultados interessantes."
   ]
  }
 ],
 "metadata": {
  "kernelspec": {
   "display_name": "Python 3",
   "language": "python",
   "name": "python3"
  },
  "language_info": {
   "codemirror_mode": {
    "name": "ipython",
    "version": 3
   },
   "file_extension": ".py",
   "mimetype": "text/x-python",
   "name": "python",
   "nbconvert_exporter": "python",
   "pygments_lexer": "ipython3",
   "version": "3.8.8"
  }
 },
 "nbformat": 4,
 "nbformat_minor": 5
}
