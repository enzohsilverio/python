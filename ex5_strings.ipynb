{
 "cells": [
  {
   "cell_type": "markdown",
   "id": "c6812e3c-0d9e-42e9-8ae8-0563e0d42d36",
   "metadata": {},
   "source": [
    "1) Faça um programa que peça para o usuário digitar uma palavra e imprima cada letra em uma linha."
   ]
  },
  {
   "cell_type": "code",
   "execution_count": 1,
   "id": "77627bf5-0a72-4812-8c2c-7fe099978280",
   "metadata": {},
   "outputs": [
    {
     "name": "stdin",
     "output_type": "stream",
     "text": [
      "Digite seu nome: Enzo\n"
     ]
    },
    {
     "name": "stdout",
     "output_type": "stream",
     "text": [
      "E\n",
      "n\n",
      "z\n",
      "o\n"
     ]
    }
   ],
   "source": [
    "nome = input('Digite seu nome:')\n",
    "\n",
    "for letra in nome:\n",
    "    print(letra)"
   ]
  },
  {
   "cell_type": "markdown",
   "id": "4b4d342a-669a-4ae4-9bde-933de87d6bad",
   "metadata": {},
   "source": [
    "2) Faça um programa que pede para o usuário digitar uma palavra e cria uma nova string igual, copiando letra por letra a palavra digitada, depois imprima a nova string."
   ]
  },
  {
   "cell_type": "code",
   "execution_count": 2,
   "id": "cd09fc0d-81af-45ed-adb9-e1a62990ac02",
   "metadata": {},
   "outputs": [
    {
     "name": "stdin",
     "output_type": "stream",
     "text": [
      "Digite uma palavra: arroz\n"
     ]
    },
    {
     "name": "stdout",
     "output_type": "stream",
     "text": [
      "['a', 'r', 'r', 'o', 'z']\n"
     ]
    }
   ],
   "source": [
    "nome = input('Digite uma palavra:')\n",
    "nova_string = []\n",
    "for letra in nome:\n",
    "    nova_string.append(letra)\n",
    "print(nova_string)"
   ]
  },
  {
   "cell_type": "markdown",
   "id": "6c291b7e-a1f1-44e5-b4fa-5a564f2d8e6e",
   "metadata": {},
   "source": [
    "3) Altere o exercício anterior para que a string copiada alterne entre letras maiúsculas e minúsculas.\n",
    "\n",
    "Exemplo: se o usuário digitar \"latex\" o programa deve imprimir \"LaTeX\"."
   ]
  },
  {
   "cell_type": "code",
   "execution_count": 15,
   "id": "4afb28ac-2f14-4826-aa3e-90fc31476fce",
   "metadata": {},
   "outputs": [
    {
     "name": "stdout",
     "output_type": "stream",
     "text": [
      "M\n",
      " \n",
      "a\n",
      " \n",
      "r\n",
      " \n",
      "i\n",
      "a\n",
      " \n",
      "S\n",
      " \n",
      "i\n",
      " \n",
      "l\n",
      " \n",
      "v\n",
      " \n",
      "a\n"
     ]
    }
   ],
   "source": [
    "nome = 'M a r i a S i l v a'\n",
    "for letra in nome:\n",
    "    print(letra)"
   ]
  },
  {
   "cell_type": "markdown",
   "id": "70ad4893-7975-40f4-8600-d55cc3d67d67",
   "metadata": {},
   "source": [
    "4) Faça um programa que pede para o usuário digitar uma palavra e cria uma nova string igual, porém com espaço entre cada letra, depois imprima a nova string:\n",
    "\n",
    "Exemplo: se o usuário digitar \"python\" o programa deve imprimir \"p y t h o n \""
   ]
  },
  {
   "cell_type": "code",
   "execution_count": 6,
   "id": "8957c37a-c454-4534-b366-8d175280c47a",
   "metadata": {},
   "outputs": [
    {
     "name": "stdin",
     "output_type": "stream",
     "text": [
      "Digite uma palavra: python\n"
     ]
    },
    {
     "name": "stdout",
     "output_type": "stream",
     "text": [
      "python\n"
     ]
    }
   ],
   "source": [
    "nome = input('Digite uma palavra:')\n",
    "nova_string = []\n",
    "for letra in nome:\n",
    "    nova_string.append(letra)\n",
    "    nova_string.split()\n",
    "print(nova_string)"
   ]
  },
  {
   "cell_type": "markdown",
   "id": "8774b444-a38c-4a9d-8fe8-e0a6e655e4ec",
   "metadata": {
    "tags": []
   },
   "source": [
    "5) Faça uma função que receba uma string e retorne uma nova string substituindo:\n",
    "\n",
    "'a' por '4'\n",
    "\n",
    "'e' por '3'\n",
    "\n",
    "'I' por '1'\n",
    "\n",
    "'t' por '7'"
   ]
  },
  {
   "cell_type": "code",
   "execution_count": null,
   "id": "84df7946-ccc0-47c7-8305-c0f1d19c1236",
   "metadata": {},
   "outputs": [],
   "source": []
  },
  {
   "cell_type": "markdown",
   "id": "db629d2d-9a33-4349-bf9f-e26371314958",
   "metadata": {},
   "source": [
    "6) Faça uma função que recebe uma string e retorna ela ao contrário.\n",
    "\n",
    "Exemplo: Recebe \"teste\" e retorna \"etset\"."
   ]
  },
  {
   "cell_type": "code",
   "execution_count": null,
   "id": "28a3d628-8b6b-483f-a7c7-c3f51cf2f23b",
   "metadata": {},
   "outputs": [],
   "source": []
  },
  {
   "cell_type": "markdown",
   "id": "89d923a8-190c-4ed2-a474-d6ef7a50eabc",
   "metadata": {},
   "source": [
    "7) Agora faça uma função que recebe uma palavra e diz se ela é um palíndromo, ou seja, se ela é igual a ela mesma ao contrário.\n",
    "\n",
    "Dica: Use a função do exercício 6."
   ]
  },
  {
   "cell_type": "code",
   "execution_count": null,
   "id": "087ec8ce-f37d-4543-a782-79312c57ea70",
   "metadata": {},
   "outputs": [],
   "source": []
  },
  {
   "cell_type": "markdown",
   "id": "1807a2aa-6f30-41e4-b30f-15bdbfd71f55",
   "metadata": {},
   "source": [
    "8) Faça uma função que receba um texto e uma palavra, então verifique se a palavra está no texto, retornando True ou False."
   ]
  },
  {
   "cell_type": "code",
   "execution_count": null,
   "id": "21ed2348-d257-4904-8d3f-e4af562457a8",
   "metadata": {},
   "outputs": [],
   "source": []
  },
  {
   "cell_type": "markdown",
   "id": "9338f07d-a419-4f0f-a427-aa321be59e71",
   "metadata": {},
   "source": [
    "9) Faça uma função que receba uma string que contém tanto números quanto letras e caracteres especiais, e que separe as letras em uma variável e os números em outra (os caracteres especiais podem ser descartados). Ao final a função deve imprimir as duas variáveis."
   ]
  },
  {
   "cell_type": "code",
   "execution_count": null,
   "id": "3a3fb3d6-9756-4053-af54-51968db93890",
   "metadata": {},
   "outputs": [],
   "source": []
  },
  {
   "cell_type": "markdown",
   "id": "aa087203-4eec-4954-bbb2-ea39ea8830eb",
   "metadata": {},
   "source": [
    "10) Desafio - Faça uma função que receba uma string e uma letra e:\n",
    "\n",
    "a. imprima quantas vezes a letra aparece na string;\n",
    "\n",
    "b. imprima todas as posições em que a letra aparece na string;\n",
    "\n",
    "c. retorne a distância entre a primeira e a última aparição dessa letra na string."
   ]
  },
  {
   "cell_type": "code",
   "execution_count": null,
   "id": "1bde1f2a-3dd0-4463-a714-2c401126d6ba",
   "metadata": {},
   "outputs": [],
   "source": []
  },
  {
   "cell_type": "markdown",
   "id": "472ecb6c-73e8-4810-86b5-a6b5a9546bea",
   "metadata": {},
   "source": [
    "11) Super Desafio! - faça uma função que criptografa uma mensagem substituindo cada letra pela letra oposta do dicionário:\n",
    "\n",
    "'a' por 'z'\n",
    "\n",
    "'b' por 'y'\n",
    "\n",
    "'c' por 'x'\n",
    "\n",
    "..."
   ]
  },
  {
   "cell_type": "code",
   "execution_count": null,
   "id": "a52c8503-c122-45a9-a65f-833ade248a05",
   "metadata": {},
   "outputs": [],
   "source": []
  },
  {
   "cell_type": "code",
   "execution_count": null,
   "id": "0491acd1-ca00-4d7e-bddd-0212fe60b1ea",
   "metadata": {},
   "outputs": [],
   "source": []
  }
 ],
 "metadata": {
  "kernelspec": {
   "display_name": "Python 3",
   "language": "python",
   "name": "python3"
  },
  "language_info": {
   "codemirror_mode": {
    "name": "ipython",
    "version": 3
   },
   "file_extension": ".py",
   "mimetype": "text/x-python",
   "name": "python",
   "nbconvert_exporter": "python",
   "pygments_lexer": "ipython3",
   "version": "3.8.8"
  }
 },
 "nbformat": 4,
 "nbformat_minor": 5
}
